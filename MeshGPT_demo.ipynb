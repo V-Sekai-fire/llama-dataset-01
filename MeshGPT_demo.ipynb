{
  "cells": [
    {
      "cell_type": "markdown",
      "metadata": {
        "id": "view-in-github",
        "colab_type": "text"
      },
      "source": [
        "<a href=\"https://colab.research.google.com/github/V-Sekai-fire/meshgpt-dataset-01/blob/main/MeshGPT_demo.ipynb\" target=\"_parent\"><img src=\"https://colab.research.google.com/assets/colab-badge.svg\" alt=\"Open In Colab\"/></a>"
      ]
    },
    {
      "cell_type": "code",
      "source": [
        "from re import T\n",
        "is_train_autoencoder = False\n",
        "is_train_autoencoder_iteration = True\n",
        "is_train_mesh_transformer = False\n",
        "is_train_mesh_transformer_iteration = True\n",
        "is_clear_dataset_npz = False"
      ],
      "metadata": {
        "id": "NM_rRocQAcZ_"
      },
      "execution_count": null,
      "outputs": []
    },
    {
      "cell_type": "code",
      "source": [
        "from google.colab import drive\n",
        "drive.mount('/content/drive')"
      ],
      "metadata": {
        "id": "aFoYTLhXhTlT",
        "colab": {
          "base_uri": "https://localhost:8080/"
        },
        "outputId": "05e0a935-2ea5-4bbe-f4a4-05a238a0ddcc"
      },
      "execution_count": null,
      "outputs": [
        {
          "output_type": "stream",
          "name": "stdout",
          "text": [
            "Drive already mounted at /content/drive; to attempt to forcibly remount, call drive.mount(\"/content/drive\", force_remount=True).\n"
          ]
        }
      ]
    },
    {
      "cell_type": "code",
      "execution_count": null,
      "metadata": {
        "id": "9tmLTKtUdRmQ",
        "colab": {
          "base_uri": "https://localhost:8080/"
        },
        "outputId": "fd423305-565c-4cb2-b5c9-6e5735d5fb5e"
      },
      "outputs": [
        {
          "output_type": "stream",
          "name": "stdout",
          "text": [
            "Found existing installation: typing_extensions 4.9.0\n",
            "Uninstalling typing_extensions-4.9.0:\n",
            "  Would remove:\n",
            "    /usr/local/lib/python3.10/dist-packages/typing_extensions-4.9.0.dist-info/*\n",
            "    /usr/local/lib/python3.10/dist-packages/typing_extensions.py\n",
            "Proceed (Y/n)?   Successfully uninstalled typing_extensions-4.9.0\n",
            "Collecting git+https://github.com/MarcusLoppe/classifier-free-guidance-pytorch.git\n",
            "  Cloning https://github.com/MarcusLoppe/classifier-free-guidance-pytorch.git to /tmp/pip-req-build-mhhikok4\n",
            "  Running command git clone --filter=blob:none --quiet https://github.com/MarcusLoppe/classifier-free-guidance-pytorch.git /tmp/pip-req-build-mhhikok4\n",
            "  Resolved https://github.com/MarcusLoppe/classifier-free-guidance-pytorch.git to commit 5c189f32dbc20cd5882be4ef2a132e2aabcb8df5\n",
            "  Preparing metadata (setup.py) ... \u001b[?25l\u001b[?25hdone\n",
            "Requirement already satisfied: beartype in /usr/local/lib/python3.10/dist-packages (from classifier-free-guidance-pytorch==0.5.1) (0.16.4)\n",
            "Requirement already satisfied: einops>=0.7 in /usr/local/lib/python3.10/dist-packages (from classifier-free-guidance-pytorch==0.5.1) (0.7.0)\n",
            "Requirement already satisfied: ftfy in /usr/local/lib/python3.10/dist-packages (from classifier-free-guidance-pytorch==0.5.1) (6.1.3)\n",
            "Requirement already satisfied: open-clip-torch>=2.8.0 in /usr/local/lib/python3.10/dist-packages (from classifier-free-guidance-pytorch==0.5.1) (2.23.0)\n",
            "Requirement already satisfied: torch>=2.0 in /usr/local/lib/python3.10/dist-packages (from classifier-free-guidance-pytorch==0.5.1) (2.1.0+cu121)\n",
            "Requirement already satisfied: transformers[torch] in /usr/local/lib/python3.10/dist-packages (from classifier-free-guidance-pytorch==0.5.1) (4.35.2)\n",
            "Requirement already satisfied: torchvision in /usr/local/lib/python3.10/dist-packages (from open-clip-torch>=2.8.0->classifier-free-guidance-pytorch==0.5.1) (0.16.0+cu121)\n",
            "Requirement already satisfied: regex in /usr/local/lib/python3.10/dist-packages (from open-clip-torch>=2.8.0->classifier-free-guidance-pytorch==0.5.1) (2023.6.3)\n",
            "Requirement already satisfied: tqdm in /usr/local/lib/python3.10/dist-packages (from open-clip-torch>=2.8.0->classifier-free-guidance-pytorch==0.5.1) (4.66.1)\n",
            "Requirement already satisfied: huggingface-hub in /usr/local/lib/python3.10/dist-packages (from open-clip-torch>=2.8.0->classifier-free-guidance-pytorch==0.5.1) (0.20.1)\n",
            "Requirement already satisfied: sentencepiece in /usr/local/lib/python3.10/dist-packages (from open-clip-torch>=2.8.0->classifier-free-guidance-pytorch==0.5.1) (0.1.99)\n",
            "Requirement already satisfied: protobuf in /usr/local/lib/python3.10/dist-packages (from open-clip-torch>=2.8.0->classifier-free-guidance-pytorch==0.5.1) (3.20.3)\n",
            "Requirement already satisfied: timm in /usr/local/lib/python3.10/dist-packages (from open-clip-torch>=2.8.0->classifier-free-guidance-pytorch==0.5.1) (0.9.12)\n",
            "Requirement already satisfied: filelock in /usr/local/lib/python3.10/dist-packages (from torch>=2.0->classifier-free-guidance-pytorch==0.5.1) (3.13.1)\n",
            "Collecting typing-extensions (from torch>=2.0->classifier-free-guidance-pytorch==0.5.1)\n",
            "  Using cached typing_extensions-4.9.0-py3-none-any.whl (32 kB)\n",
            "Requirement already satisfied: sympy in /usr/local/lib/python3.10/dist-packages (from torch>=2.0->classifier-free-guidance-pytorch==0.5.1) (1.12)\n",
            "Requirement already satisfied: networkx in /usr/local/lib/python3.10/dist-packages (from torch>=2.0->classifier-free-guidance-pytorch==0.5.1) (3.2.1)\n",
            "Requirement already satisfied: jinja2 in /usr/local/lib/python3.10/dist-packages (from torch>=2.0->classifier-free-guidance-pytorch==0.5.1) (3.1.2)\n",
            "Requirement already satisfied: fsspec in /usr/local/lib/python3.10/dist-packages (from torch>=2.0->classifier-free-guidance-pytorch==0.5.1) (2023.6.0)\n",
            "Requirement already satisfied: triton==2.1.0 in /usr/local/lib/python3.10/dist-packages (from torch>=2.0->classifier-free-guidance-pytorch==0.5.1) (2.1.0)\n",
            "Requirement already satisfied: wcwidth<0.3.0,>=0.2.12 in /usr/local/lib/python3.10/dist-packages (from ftfy->classifier-free-guidance-pytorch==0.5.1) (0.2.12)\n",
            "Requirement already satisfied: numpy>=1.17 in /usr/local/lib/python3.10/dist-packages (from transformers[torch]->classifier-free-guidance-pytorch==0.5.1) (1.23.5)\n",
            "Requirement already satisfied: packaging>=20.0 in /usr/local/lib/python3.10/dist-packages (from transformers[torch]->classifier-free-guidance-pytorch==0.5.1) (23.2)\n",
            "Requirement already satisfied: pyyaml>=5.1 in /usr/local/lib/python3.10/dist-packages (from transformers[torch]->classifier-free-guidance-pytorch==0.5.1) (6.0.1)\n",
            "Requirement already satisfied: requests in /usr/local/lib/python3.10/dist-packages (from transformers[torch]->classifier-free-guidance-pytorch==0.5.1) (2.31.0)\n",
            "Requirement already satisfied: tokenizers<0.19,>=0.14 in /usr/local/lib/python3.10/dist-packages (from transformers[torch]->classifier-free-guidance-pytorch==0.5.1) (0.15.0)\n",
            "Requirement already satisfied: safetensors>=0.3.1 in /usr/local/lib/python3.10/dist-packages (from transformers[torch]->classifier-free-guidance-pytorch==0.5.1) (0.4.1)\n",
            "Requirement already satisfied: accelerate>=0.20.3 in /usr/local/lib/python3.10/dist-packages (from transformers[torch]->classifier-free-guidance-pytorch==0.5.1) (0.25.0)\n",
            "Requirement already satisfied: psutil in /usr/local/lib/python3.10/dist-packages (from accelerate>=0.20.3->transformers[torch]->classifier-free-guidance-pytorch==0.5.1) (5.9.5)\n",
            "Requirement already satisfied: MarkupSafe>=2.0 in /usr/local/lib/python3.10/dist-packages (from jinja2->torch>=2.0->classifier-free-guidance-pytorch==0.5.1) (2.1.3)\n",
            "Requirement already satisfied: charset-normalizer<4,>=2 in /usr/local/lib/python3.10/dist-packages (from requests->transformers[torch]->classifier-free-guidance-pytorch==0.5.1) (3.3.2)\n",
            "Requirement already satisfied: idna<4,>=2.5 in /usr/local/lib/python3.10/dist-packages (from requests->transformers[torch]->classifier-free-guidance-pytorch==0.5.1) (3.6)\n",
            "Requirement already satisfied: urllib3<3,>=1.21.1 in /usr/local/lib/python3.10/dist-packages (from requests->transformers[torch]->classifier-free-guidance-pytorch==0.5.1) (2.0.7)\n",
            "Requirement already satisfied: certifi>=2017.4.17 in /usr/local/lib/python3.10/dist-packages (from requests->transformers[torch]->classifier-free-guidance-pytorch==0.5.1) (2023.11.17)\n",
            "Requirement already satisfied: mpmath>=0.19 in /usr/local/lib/python3.10/dist-packages (from sympy->torch>=2.0->classifier-free-guidance-pytorch==0.5.1) (1.3.0)\n",
            "Requirement already satisfied: pillow!=8.3.*,>=5.3.0 in /usr/local/lib/python3.10/dist-packages (from torchvision->open-clip-torch>=2.8.0->classifier-free-guidance-pytorch==0.5.1) (9.4.0)\n",
            "Installing collected packages: typing-extensions\n",
            "\u001b[31mERROR: pip's dependency resolver does not currently take into account all the packages that are installed. This behaviour is the source of the following dependency conflicts.\n",
            "tensorflow-probability 0.22.0 requires typing-extensions<4.6.0, but you have typing-extensions 4.9.0 which is incompatible.\u001b[0m\u001b[31m\n",
            "\u001b[0mSuccessfully installed typing-extensions-4.9.0\n",
            "  Preparing metadata (setup.py) ... \u001b[?25l\u001b[?25hdone\n",
            "Requirement already satisfied: trimesh in /usr/local/lib/python3.10/dist-packages (4.0.8)\n",
            "Requirement already satisfied: numpy in /usr/local/lib/python3.10/dist-packages (from trimesh) (1.23.5)\n"
          ]
        }
      ],
      "source": [
        "!yes | pip uninstall typing-extensions\n",
        "!yes | pip install git+https://github.com/MarcusLoppe/classifier-free-guidance-pytorch.git\n",
        "!yes | pip install -q git+https://github.com/MarcusLoppe/meshgpt-pytorch.git\n",
        "!yes | pip install trimesh"
      ]
    },
    {
      "cell_type": "code",
      "source": [
        "import torch\n",
        "import trimesh\n",
        "import numpy as np\n",
        "import os\n",
        "import csv\n",
        "from collections import OrderedDict\n",
        "\n",
        "from meshgpt_pytorch import (\n",
        "    MeshTransformerTrainer,\n",
        "    MeshAutoencoderTrainer,\n",
        "    MeshAutoencoder,\n",
        "    MeshTransformer\n",
        ")\n",
        "from meshgpt_pytorch.data import (\n",
        "    derive_face_edges_from_faces\n",
        ")"
      ],
      "metadata": {
        "id": "5ztZ1JUl8zOZ"
      },
      "execution_count": null,
      "outputs": []
    },
    {
      "cell_type": "code",
      "execution_count": null,
      "metadata": {
        "id": "7aW7oUHedRmQ"
      },
      "outputs": [],
      "source": [
        "import trimesh\n",
        "import torch\n",
        "import numpy as np\n",
        "import os\n",
        "from collections import OrderedDict\n",
        "\n",
        "max_faces = 5000\n",
        "\n",
        "def get_mesh(file_path):\n",
        "    mesh = trimesh.load(file_path, force='mesh')\n",
        "\n",
        "    # Center and scale vertices\n",
        "    center = np.mean(mesh.vertices, axis=0)\n",
        "    vertices = mesh.vertices - center\n",
        "    max_abs = np.max(np.abs(vertices))\n",
        "    scale_factor = (1 / 128) / max_abs\n",
        "    vertices *= scale_factor\n",
        "\n",
        "    # Quantize vertices\n",
        "    vertices = np.around(vertices).astype(np.float32)\n",
        "\n",
        "    # Sort vertices by Z, Y, X\n",
        "    sorted_indices = np.lexsort(vertices.T[::-1])\n",
        "    vertices = vertices[sorted_indices]\n",
        "\n",
        "    # Map old indices to new, sorted indices\n",
        "    vertex_map = np.empty(len(sorted_indices), dtype=int)\n",
        "    vertex_map[sorted_indices] = np.arange(len(sorted_indices))\n",
        "\n",
        "    # Reindex faces\n",
        "    reindexed_faces = vertex_map[mesh.faces]\n",
        "    sorted_faces = np.sort(reindexed_faces, axis=1)\n",
        "\n",
        "    return vertices, sorted_faces\n",
        "\n",
        "def augment_mesh(vertices, jitter_strength=0.01):\n",
        "    jitter_amount = np.random.uniform(-jitter_strength, jitter_strength, size=vertices.shape)\n",
        "    vertices += jitter_amount\n",
        "    return vertices\n",
        "\n",
        "def snake_to_sentence_case(snake_str):\n",
        "    components = snake_str.split(\"_\")\n",
        "    return \" \".join(word.capitalize() for word in components)\n",
        "\n",
        "\n",
        "# !yes | pip install replicate\n",
        "\n",
        "# import asyncio\n",
        "# import replicate\n",
        "\n",
        "# image = open(\"mystery.jpg\", \"rb\")\n",
        "# async def vertices_faces_image_prompt_as_json_dictionary():\n",
        "#     image = open(\"mystery.jpg\", \"rb\")\n",
        "#     output = await replicate.run(\n",
        "#         \"nateraw/video-llava:a494250c04691c458f57f2f8ef5785f25bc851e0c91fd349995081d4362322dd\",\n",
        "#         input={\n",
        "#             \"text_prompt\": \"Describe focus of the image as a json dictionary.\",\n",
        "#             \"image_path\": image,\n",
        "#         }\n",
        "#     )\n",
        "#     return output\n",
        "# asyncio.run(run_model())\n",
        "\n",
        "# https://huggingface.co/TheBloke/Nous-Hermes-2-SOLAR-10.7B-GGUF/blob/main/nous-hermes-2-solar-10.7b.Q6_K.gguf\n",
        "# !yes | pip install llama_cpp\n",
        "# from llama_cpp import Llama\n",
        "# llm = Llama(model_path=\"path/to/llama-2/llama-model.gguf\", chat_format=\"chatml\")\n",
        "# llm.create_chat_completion(\n",
        "#       messages = [\n",
        "#           {\"role\": \"system\", \"content\": \"You are an assistant who perfectly describes images.\"},\n",
        "#           {\n",
        "#               \"role\": \"user\",\n",
        "#               \"content\": \"Describe this image in detail please.\"\n",
        "#           }\n",
        "#       ]\n",
        "# )\n",
        "\n",
        "def load_filename(directory, variations):\n",
        "    obj_datas = []\n",
        "\n",
        "    # Get random scale factors within a range\n",
        "    scale_factors = np.random.uniform(0.75, 1.0, size=variations)\n",
        "\n",
        "    for filename in os.listdir(directory):\n",
        "        if filename.endswith(\".glb\"):\n",
        "            file_path = os.path.join(directory, filename)\n",
        "            vertices, faces = get_mesh(file_path)\n",
        "\n",
        "            if len(faces) > max_faces:\n",
        "                print(f\"Mesh {filename} has {len(faces)} faces which is more than the allowed {max_faces} faces. Rejecting.\")\n",
        "                continue\n",
        "\n",
        "            faces_tensor = torch.tensor(faces, dtype=torch.long).to(\"cuda\")\n",
        "            face_edges = derive_face_edges_from_faces(faces_tensor)\n",
        "\n",
        "            texts, _ = os.path.splitext(filename)\n",
        "            texts = snake_to_sentence_case(texts)\n",
        "            # Run video llava on the image. \"Describe the focus of the photo as a json dictionary.\"\n",
        "            for scale_factor in scale_factors:\n",
        "                aug_vertices = augment_mesh(vertices.copy()) * scale_factor\n",
        "                aug_vertices_tensor = torch.tensor(aug_vertices, dtype=torch.float)\n",
        "\n",
        "                obj_data = {\n",
        "                    \"vertices\": aug_vertices_tensor.to(\"cuda\"),\n",
        "                    \"faces\": faces_tensor,\n",
        "                    \"face_edges\": face_edges,\n",
        "                    \"texts\": texts\n",
        "                }\n",
        "                obj_datas.append(obj_data)\n",
        "\n",
        "    print(f\"[create_mesh_dataset] Returning {len(obj_datas)} meshes\")\n",
        "    return obj_datas\n"
      ]
    },
    {
      "cell_type": "code",
      "execution_count": null,
      "metadata": {
        "id": "vthmcnU2dRmS",
        "colab": {
          "base_uri": "https://localhost:8080/"
        },
        "outputId": "bcaa12a5-795f-44ef-dbae-8e57bb782340"
      },
      "outputs": [
        {
          "output_type": "stream",
          "name": "stdout",
          "text": [
            "Mesh sk_masculine_teen.glb has 13408 faces which is more than the allowed 5000 faces. Rejecting.\n",
            "Mesh sk_masculine_adult_ik.glb has 13410 faces which is more than the allowed 5000 faces. Rejecting.\n",
            "Mesh sk_baby_01.glb has 13408 faces which is more than the allowed 5000 faces. Rejecting.\n",
            "Mesh sk_masculine_adult.glb has 13410 faces which is more than the allowed 5000 faces. Rejecting.\n",
            "Mesh sk_feminine_teen.glb has 13358 faces which is more than the allowed 5000 faces. Rejecting.\n",
            "Mesh s_vehicle_bicycle_bmx.glb has 39972 faces which is more than the allowed 5000 faces. Rejecting.\n",
            "Mesh s_table_coffee_variation.glb has 8140 faces which is more than the allowed 5000 faces. Rejecting.\n",
            "Mesh s_chair_office_01.glb has 25192 faces which is more than the allowed 5000 faces. Rejecting.\n",
            "Mesh s_sgcontroller.glb has 8848 faces which is more than the allowed 5000 faces. Rejecting.\n",
            "Mesh sk_feminine_adult.glb has 13358 faces which is more than the allowed 5000 faces. Rejecting.\n",
            "Mesh sk_child_01.glb has 13408 faces which is more than the allowed 5000 faces. Rejecting.\n",
            "Mesh s_desk.glb has 7240 faces which is more than the allowed 5000 faces. Rejecting.\n",
            "Mesh s_form_torso_dress_feminine.glb has 21754 faces which is more than the allowed 5000 faces. Rejecting.\n",
            "Mesh sk_dog_01.glb has 8418 faces which is more than the allowed 5000 faces. Rejecting.\n",
            "Mesh s_skate_park.glb has 8598 faces which is more than the allowed 5000 faces. Rejecting.\n",
            "Mesh s_chair_office.glb has 6894 faces which is more than the allowed 5000 faces. Rejecting.\n",
            "[create_mesh_dataset] Returning 47 meshes\n",
            "[MeshDataset] Created from 47 entrys\n",
            "[MeshDataset] Generated face_edges for 0/47 entrys\n",
            "[MeshDataset] Saved 47 entrys at /content/drive/MyDrive/demo_mesh/demo_mesh.npz\n",
            "dict_keys(['vertices', 'faces', 'face_edges', 'texts'])\n",
            "{'S Door Double', 'S Primitive Wedge', 'S Table Sit Square', 'S Chair Modern', 'S Table Counter', 'S Primitive Cylinder Hollow', 'S Table Office', 'S Door Single', 'S Door Double Frame', 'S Table Nightstand', 'S Table Bar Circle', 'S Chair Stool', 'S Door Single Frame', 'S Mask', 'S Bed King', 'Sk Horse 01', 'S Table Coffee', 'S Primitive Pyramid', 'S Bone', 'S Cabinet Dresser 03', 'S Stairs Single-6', 'S Table Bedside', 'Mire Clothing', 'S Primitive Cylinder', 'S Bed Full', 'S Tree Bushy', 'S Chair Sofa Wide', 'S Cabinet Bookshelf', 'S Ziggurat', 'S Table Bar Rectangle', 'S Primitive Sphere', 'S Hmd', 'S Box', 'S Phone', 'S Chair Stool Mini', 'S Table Bar', 'S Tree No Leaves', 'Sk Cat 01', 'S Table Sit Rectangle', 'S Chair Bar', 'S Bed Twin', 'S Chair Sofa', 'Sk Snake 01', 'S Chair Box', 'S Cabinet Dresser 05', 'S Gui', 'S Table Sit Circle'}\n"
          ]
        }
      ],
      "source": [
        "from pathlib import Path\n",
        "import gc\n",
        "import torch\n",
        "import os\n",
        "from meshgpt_pytorch import MeshDataset\n",
        "\n",
        "torch.cuda.empty_cache()\n",
        "gc.collect()\n",
        "\n",
        "\n",
        "project_name = \"demo_mesh\"\n",
        "\n",
        "working_dir = f'/content/drive/MyDrive/{project_name}'\n",
        "\n",
        "working_dir = Path(working_dir)\n",
        "working_dir.mkdir(exist_ok = True, parents = True)\n",
        "dataset_path = working_dir / (project_name + \".npz\")\n",
        "\n",
        "\n",
        "if is_clear_dataset_npz:\n",
        "    data = load_filename(working_dir, 1)\n",
        "    dataset = MeshDataset(data)\n",
        "    dataset.generate_face_edges()\n",
        "    dataset.save(dataset_path)\n",
        "else:\n",
        "    dataset = MeshDataset.load(dataset_path)\n",
        "\n",
        "print(dataset.data[0].keys())\n",
        "print(set(item[\"texts\"] for item in dataset.data)  )\n"
      ]
    },
    {
      "cell_type": "markdown",
      "metadata": {
        "id": "yzVsRDtzdRmT"
      },
      "source": [
        "### Inspect"
      ]
    },
    {
      "cell_type": "code",
      "execution_count": null,
      "metadata": {
        "id": "vPpalWsbdRmU",
        "colab": {
          "base_uri": "https://localhost:8080/"
        },
        "outputId": "00113842-ca18-45c8-87d2-06885663461a"
      },
      "outputs": [
        {
          "output_type": "stream",
          "name": "stdout",
          "text": [
            "Iteration 0 complete. Processed 403 vertices and 480 faces.\n",
            "Iteration 1 complete. Processed 403 vertices and 480 faces.\n",
            "Iteration 2 complete. Processed 336 vertices and 168 faces.\n",
            "Iteration 3 complete. Processed 264 vertices and 335 faces.\n",
            "Iteration 4 complete. Processed 168 vertices and 144 faces.\n",
            "Iteration 5 complete. Processed 168 vertices and 144 faces.\n",
            "Iteration 6 complete. Processed 205 vertices and 320 faces.\n",
            "Iteration 7 complete. Processed 216 vertices and 108 faces.\n",
            "Iteration 8 complete. Processed 128 vertices and 256 faces.\n",
            "Iteration 9 complete. Processed 96 vertices and 48 faces.\n",
            "Iteration 10 complete. Processed 96 vertices and 48 faces.\n",
            "Iteration 11 complete. Processed 62 vertices and 48 faces.\n",
            "Iteration 12 complete. Processed 130 vertices and 128 faces.\n",
            "Iteration 13 complete. Processed 56 vertices and 24 faces.\n",
            "Iteration 14 complete. Processed 38 vertices and 44 faces.\n",
            "Iteration 15 complete. Processed 38 vertices and 44 faces.\n",
            "Iteration 16 complete. Processed 24 vertices and 12 faces.\n",
            "Iteration 17 complete. Processed 18 vertices and 8 faces.\n",
            "Iteration 18 complete. Processed 16 vertices and 6 faces.\n",
            "Iteration 19 complete. Processed 1848 vertices and 912 faces.\n",
            "Iteration 20 complete. Processed 1280 vertices and 1306 faces.\n",
            "Iteration 21 complete. Processed 1917 vertices and 2320 faces.\n",
            "Iteration 22 complete. Processed 280 vertices and 556 faces.\n",
            "Iteration 23 complete. Processed 1486 vertices and 1376 faces.\n",
            "Iteration 24 complete. Processed 451 vertices and 626 faces.\n",
            "Iteration 25 complete. Processed 1089 vertices and 2090 faces.\n",
            "Iteration 26 complete. Processed 637 vertices and 564 faces.\n",
            "Iteration 27 complete. Processed 848 vertices and 564 faces.\n",
            "Iteration 28 complete. Processed 1142 vertices and 1464 faces.\n",
            "Iteration 29 complete. Processed 2243 vertices and 4304 faces.\n",
            "Iteration 30 complete. Processed 40 vertices and 20 faces.\n",
            "Iteration 31 complete. Processed 432 vertices and 216 faces.\n",
            "Iteration 32 complete. Processed 552 vertices and 256 faces.\n",
            "Iteration 33 complete. Processed 2179 vertices and 3884 faces.\n",
            "Iteration 34 complete. Processed 385 vertices and 440 faces.\n",
            "Iteration 35 complete. Processed 2388 vertices and 2184 faces.\n",
            "Iteration 36 complete. Processed 796 vertices and 910 faces.\n",
            "Iteration 37 complete. Processed 1197 vertices and 1486 faces.\n",
            "Iteration 38 complete. Processed 2074 vertices and 3638 faces.\n",
            "Iteration 39 complete. Processed 744 vertices and 344 faces.\n",
            "Iteration 40 complete. Processed 904 vertices and 1176 faces.\n",
            "Iteration 41 complete. Processed 3645 vertices and 4447 faces.\n",
            "Iteration 42 complete. Processed 702 vertices and 784 faces.\n",
            "Iteration 43 complete. Processed 1486 vertices and 1376 faces.\n",
            "Iteration 44 complete. Processed 3112 vertices and 1556 faces.\n",
            "Iteration 45 complete. Processed 690 vertices and 512 faces.\n",
            "Iteration 46 complete. Processed 3648 vertices and 4424 faces.\n",
            "Total number of processed meshes: 47\n"
          ]
        }
      ],
      "source": [
        "seen_texts = []  # Keep track of seen texts to avoid processing duplicates\n",
        "mesh_list = []  # List to store individual meshes\n",
        "translation_distance = 1.0  # Distance to translate vertices, set to 1 unit as required\n",
        "\n",
        "# Iterate over each item in the dataset\n",
        "for r, item in enumerate(dataset.data):\n",
        "    texts = item['texts']\n",
        "\n",
        "    # Skip this iteration if there are no texts or if we've already seen these texts\n",
        "    if len(texts) == 0 or texts in seen_texts:\n",
        "        continue\n",
        "\n",
        "    # Add these texts to the list of seen texts\n",
        "    seen_texts.append(texts)\n",
        "\n",
        "    # Get vertices and faces\n",
        "    vertices = np.array(item['vertices'].cpu())\n",
        "    faces = np.array(item['faces'].cpu())\n",
        "\n",
        "    # Translate the vertices copy\n",
        "    translation_vector = np.array([len(seen_texts) * translation_distance, 0, 0])  # Translation along the x-axis\n",
        "    vertices[:, :3] += translation_vector  # Apply translation only to x, y, z\n",
        "\n",
        "    # Create a new mesh object with the translated vertices and original faces\n",
        "    mesh = trimesh.Trimesh(vertices=vertices, faces=faces)\n",
        "\n",
        "    # Append the new mesh to our list of meshes\n",
        "    mesh_list.append(mesh)\n",
        "\n",
        "    print(f\"Iteration {r} complete. Processed {len(vertices)} vertices and {len(faces)} faces.\")\n",
        "\n",
        "# After iterating over all items, print the number of processed meshes\n",
        "print(f\"Total number of processed meshes: {len(mesh_list)}\")\n"
      ]
    },
    {
      "cell_type": "markdown",
      "metadata": {
        "id": "R4pHZ20udRmU"
      },
      "source": [
        "### Train!"
      ]
    },
    {
      "cell_type": "code",
      "execution_count": null,
      "metadata": {
        "id": "xoAxJWecdRmV"
      },
      "outputs": [],
      "source": [
        "autoencoder = MeshAutoencoder().to(\"cuda\")"
      ]
    },
    {
      "cell_type": "markdown",
      "metadata": {
        "id": "HlJewvY1dRmV"
      },
      "source": [
        "**Have at least 400-2000 items in the dataset, use this to multiply the dataset**  "
      ]
    },
    {
      "cell_type": "code",
      "execution_count": null,
      "metadata": {
        "id": "JJ9qMRVxdRmW",
        "colab": {
          "base_uri": "https://localhost:8080/"
        },
        "outputId": "42e2ad9c-2ad3-458f-ff8f-cc0c439d4897"
      },
      "outputs": [
        {
          "output_type": "stream",
          "name": "stdout",
          "text": [
            "423\n"
          ]
        }
      ],
      "source": [
        "import random\n",
        "\n",
        "random.seed(42)\n",
        "random.shuffle(dataset.data)\n",
        "\n",
        "initial_length = len(dataset.data)\n",
        "if initial_length > 0:\n",
        "    replication_factor = max(1, (400 - 1) // initial_length + 1)\n",
        "    dataset.data *= replication_factor\n",
        "    dataset.data = dataset.data[:2000]\n",
        "\n",
        "print(len(dataset.data))"
      ]
    },
    {
      "cell_type": "markdown",
      "metadata": {
        "id": "T9k-OAoBdRmY"
      },
      "source": [
        "**Train to about 0.3 loss if you are using a small dataset**"
      ]
    },
    {
      "cell_type": "code",
      "execution_count": null,
      "metadata": {
        "id": "NKTuiTHvdRmY",
        "colab": {
          "base_uri": "https://localhost:8080/",
          "height": 578
        },
        "outputId": "610435f4-5160-46fd-c50e-1f4e7cf521cb"
      },
      "outputs": [
        {
          "output_type": "stream",
          "name": "stderr",
          "text": [
            "Epoch 1/380: 100%|██████████| 52/52 [00:14<00:00,  3.47it/s, commit_loss=-.425, loss=0.22, recon_loss=0.262]"
          ]
        },
        {
          "output_type": "stream",
          "name": "stdout",
          "text": [
            "Epoch 1 average loss: 0.22340341972617003 recon loss: 0.2564: commit_loss -0.3302\n",
            "Stopping training at epoch 0 with average loss 0.22340341972617003\n",
            "Training complete\n"
          ]
        },
        {
          "output_type": "stream",
          "name": "stderr",
          "text": [
            "\n"
          ]
        },
        {
          "output_type": "display_data",
          "data": {
            "text/plain": [
              "<Figure size 1000x500 with 1 Axes>"
            ],
            "image/png": "[encoded data removed]"
          },
          "metadata": {}
        }
      ],
      "source": [
        "autoencoder_trainer = MeshAutoencoderTrainer(model = autoencoder ,warmup_steps = 10, dataset = dataset, num_train_steps=100,\n",
        "                                            batch_size=8,\n",
        "                                            grad_accum_every=2,\n",
        "                                            learning_rate = 4e-3)\n",
        "if is_train_autoencoder:\n",
        "  if is_train_autoencoder_iteration:\n",
        "    autoencoder_trainer.load(f'{working_dir}/mesh-encoder_{project_name}.pt')\n",
        "  loss = autoencoder_trainer.train(380,stop_at_loss = 0.28, diplay_graph= True)\n",
        "  autoencoder_trainer.save(f'{working_dir}/mesh-encoder_{project_name}.pt')\n",
        "else:\n",
        "  autoencoder_trainer.load(f'{working_dir}/mesh-encoder_{project_name}.pt')\n",
        "  autencoder = autoencoder_trainer.model\n",
        "  for param in autoencoder.parameters():\n",
        "      param.requires_grad = True\n",
        "  import gc"
      ]
    },
    {
      "cell_type": "code",
      "execution_count": null,
      "metadata": {
        "id": "gLCezPnNdRmZ",
        "colab": {
          "base_uri": "https://localhost:8080/"
        },
        "outputId": "4c3cc96d-bf01-497e-97b2-4badfa50b78a"
      },
      "outputs": [
        {
          "output_type": "stream",
          "name": "stdout",
          "text": [
            "Highest face count: 4447\n",
            "Max token sequence: 26682\n"
          ]
        },
        {
          "output_type": "stream",
          "name": "stderr",
          "text": [
            "/usr/local/lib/python3.10/dist-packages/huggingface_hub/utils/_token.py:72: UserWarning: \n",
            "The secret `HF_TOKEN` does not exist in your Colab secrets.\n",
            "To authenticate with the Hugging Face Hub, create a token in your settings tab (https://huggingface.co/settings/tokens), set it as secret in your Google Colab and restart your session.\n",
            "You will be able to reuse this secret in all of your notebooks.\n",
            "Please note that authentication is recommended but still optional to access public models or datasets.\n",
            "  warnings.warn(\n"
          ]
        },
        {
          "output_type": "stream",
          "name": "stdout",
          "text": [
            "Decoder total parameters: 94.4M\n",
            "Total parameters: 154.3M\n"
          ]
        }
      ],
      "source": [
        "import gc\n",
        "torch.cuda.empty_cache()\n",
        "gc.collect()\n",
        "\n",
        "max_length =  max(len(d[\"faces\"]) for d in dataset if \"faces\" in d)\n",
        "max_seq = max_length * 6\n",
        "print(\"Highest face count:\" , max_length)\n",
        "print(\"Max token sequence:\" , max_seq)\n",
        "\n",
        "transformer = MeshTransformer(\n",
        "    autoencoder,\n",
        "    dim = 512,\n",
        "    coarse_pre_gateloop_depth = 6, # Better performance using more gateloop layers\n",
        "    fine_pre_gateloop_depth= 4,\n",
        "    #attn_depth = 24, # GPT-2 medium have 24 layer depth, change if needed\n",
        "    max_seq_len = max_seq,\n",
        "    condition_on_text = True,\n",
        "    gateloop_use_heinsen = False,\n",
        "    text_condition_model_types = \"bge\", ## Change or remove this line if you are using:  https://github.com/MarcusLoppe/classifier-free-guidance-pytorch\n",
        "    text_condition_cond_drop_prob = 0.0\n",
        ")\n",
        "\n",
        "total_params = sum(p.numel() for p in transformer.decoder.parameters())\n",
        "total_params = f\"{total_params / 1000000:.1f}M\"\n",
        "print(f\"Decoder total parameters: {total_params}\")\n",
        "total_params = sum(p.numel() for p in transformer.parameters())\n",
        "total_params = f\"{total_params / 1000000:.1f}M\"\n",
        "print(f\"Total parameters: {total_params}\")"
      ]
    },
    {
      "cell_type": "markdown",
      "metadata": {
        "id": "Tun8sv-udRmZ"
      },
      "source": [
        "## **Required!**, embed the text and run generate_codes to save 4-96 GB VRAM (dependant on dataset) ##\n",
        "\n",
        "**If you don't;** <br>\n",
        "During each during each training step the autoencoder will generate the codes and the text encoder will embed the text.\n",
        "<br>\n",
        "After these fields are generate: **they will be deleted and next time it generates the code again:**<br>\n",
        "\n",
        "This is due to the dataloaders nature, it writes this information to a temporary COPY of the dataset\n"
      ]
    },
    {
      "cell_type": "code",
      "execution_count": null,
      "metadata": {
        "id": "s--ya8W0dRmZ",
        "colab": {
          "base_uri": "https://localhost:8080/"
        },
        "outputId": "23cb77c5-3450-4c97-b80d-cd9be3ae9773"
      },
      "outputs": [
        {
          "output_type": "stream",
          "name": "stdout",
          "text": [
            "{'S Door Double', 'S Primitive Wedge', 'S Table Sit Square', 'S Chair Modern', 'S Table Counter', 'S Table Office', 'S Primitive Cylinder Hollow', 'S Door Single', 'S Table Nightstand', 'S Table Bar Circle', 'S Chair Stool', 'S Door Double Frame', 'S Door Single Frame', 'S Mask', 'S Bed King', 'Sk Horse 01', 'S Table Coffee', 'S Primitive Pyramid', 'S Bone', 'S Cabinet Dresser 03', 'S Stairs Single-6', 'S Table Bedside', 'Mire Clothing', 'S Primitive Cylinder', 'S Bed Full', 'S Chair Sofa Wide', 'S Cabinet Bookshelf', 'S Tree Bushy', 'S Ziggurat', 'S Table Bar', 'S Chair Stool Mini', 'S Hmd', 'S Phone', 'S Box', 'S Tree No Leaves', 'S Primitive Sphere', 'S Table Bar Rectangle', 'Sk Cat 01', 'S Table Sit Rectangle', 'S Chair Bar', 'S Bed Twin', 'S Chair Sofa', 'Sk Snake 01', 'S Chair Box', 'S Cabinet Dresser 05', 'S Gui', 'S Table Sit Circle'}\n",
            "[MeshDataset] Generated 47 text_embeddings\n",
            "[MeshDataset] Generated codes for 423 entrys\n",
            "dict_keys(['vertices', 'faces', 'face_edges', 'text_embeds', 'codes'])\n"
          ]
        }
      ],
      "source": [
        "labels = set(item[\"texts\"] for item in dataset.data)\n",
        "print(labels)\n",
        "dataset.embed_texts(transformer)\n",
        "dataset.generate_codes(autoencoder)\n",
        "print(dataset.data[0].keys())"
      ]
    },
    {
      "cell_type": "markdown",
      "metadata": {
        "id": "XFa_p1G-dRma"
      },
      "source": [
        "*Load previous saved model if you had to restart session*"
      ]
    },
    {
      "cell_type": "markdown",
      "metadata": {
        "id": "KXZ0qgV3dRma"
      },
      "source": [
        "**Train to about 0.0001 loss (or less) if you are using a small dataset**"
      ]
    },
    {
      "cell_type": "code",
      "execution_count": null,
      "metadata": {
        "id": "I9hV_xUQdRma",
        "colab": {
          "base_uri": "https://localhost:8080/"
        },
        "outputId": "6804391d-977b-49ef-be45-78365c40a934"
      },
      "outputs": [
        {
          "metadata": {
            "tags": null
          },
          "name": "stderr",
          "output_type": "stream",
          "text": [
            "Epoch 1/200: 100%|██████████| 211/211 [01:58<00:00,  1.79it/s, loss=8.39]\n"
          ]
        },
        {
          "metadata": {
            "tags": null
          },
          "name": "stdout",
          "output_type": "stream",
          "text": [
            "Epoch 1 average loss: 9.074482623999717\n"
          ]
        },
        {
          "metadata": {
            "tags": null
          },
          "name": "stderr",
          "output_type": "stream",
          "text": [
            "Epoch 2/200: 100%|██████████| 211/211 [01:58<00:00,  1.78it/s, loss=7.48]\n"
          ]
        },
        {
          "metadata": {
            "tags": null
          },
          "name": "stdout",
          "output_type": "stream",
          "text": [
            "Epoch 2 average loss: 7.88637790860723\n"
          ]
        },
        {
          "metadata": {
            "tags": null
          },
          "name": "stderr",
          "output_type": "stream",
          "text": [
            "Epoch 3/200: 100%|██████████| 211/211 [01:55<00:00,  1.82it/s, loss=6.87]\n"
          ]
        },
        {
          "metadata": {
            "tags": null
          },
          "name": "stdout",
          "output_type": "stream",
          "text": [
            "Epoch 3 average loss: 7.082348733151694\n"
          ]
        },
        {
          "metadata": {
            "tags": null
          },
          "name": "stderr",
          "output_type": "stream",
          "text": [
            "Epoch 4/200: 100%|██████████| 211/211 [01:57<00:00,  1.80it/s, loss=6.12]\n"
          ]
        },
        {
          "metadata": {
            "tags": null
          },
          "name": "stdout",
          "output_type": "stream",
          "text": [
            "Epoch 4 average loss: 6.486401998601254          avg loss speed: 1.5280010899849596\n"
          ]
        },
        {
          "metadata": {
            "tags": null
          },
          "name": "stderr",
          "output_type": "stream",
          "text": [
            "Epoch 5/200: 100%|██████████| 211/211 [01:57<00:00,  1.79it/s, loss=5.71]\n"
          ]
        },
        {
          "metadata": {
            "tags": null
          },
          "name": "stdout",
          "output_type": "stream",
          "text": [
            "Epoch 5 average loss: 6.0004782993081625          avg loss speed: 1.151231247478564\n"
          ]
        },
        {
          "metadata": {
            "tags": null
          },
          "name": "stderr",
          "output_type": "stream",
          "text": [
            "Epoch 6/200: 100%|██████████| 211/211 [02:01<00:00,  1.74it/s, loss=5.53]\n"
          ]
        },
        {
          "metadata": {
            "tags": null
          },
          "name": "stdout",
          "output_type": "stream",
          "text": [
            "Epoch 6 average loss: 5.620637932094917          avg loss speed: 0.9024384115921196\n"
          ]
        },
        {
          "metadata": {
            "tags": null
          },
          "name": "stderr",
          "output_type": "stream",
          "text": [
            "Epoch 7/200: 100%|██████████| 211/211 [02:00<00:00,  1.76it/s, loss=5.02]\n"
          ]
        },
        {
          "metadata": {
            "tags": null
          },
          "name": "stdout",
          "output_type": "stream",
          "text": [
            "Epoch 7 average loss: 5.3080258742327935          avg loss speed: 0.7278135357686502\n"
          ]
        },
        {
          "metadata": {
            "tags": null
          },
          "name": "stderr",
          "output_type": "stream",
          "text": [
            "Epoch 8/200: 100%|██████████| 211/211 [01:57<00:00,  1.80it/s, loss=5.14]\n"
          ]
        },
        {
          "metadata": {
            "tags": null
          },
          "name": "stdout",
          "output_type": "stream",
          "text": [
            "Epoch 8 average loss: 5.026195781490814          avg loss speed: 0.6168515870544766\n"
          ]
        },
        {
          "metadata": {
            "tags": null
          },
          "name": "stderr",
          "output_type": "stream",
          "text": [
            "Epoch 9/200: 100%|██████████| 211/211 [01:56<00:00,  1.81it/s, loss=4.73]\n"
          ]
        },
        {
          "metadata": {
            "tags": null
          },
          "name": "stdout",
          "output_type": "stream",
          "text": [
            "Epoch 9 average loss: 4.724442596119162          avg loss speed: 0.5938439331536802\n"
          ]
        },
        {
          "metadata": {
            "tags": null
          },
          "name": "stderr",
          "output_type": "stream",
          "text": [
            "Epoch 10/200: 100%|██████████| 211/211 [03:00<00:00,  1.17it/s, loss=4.35]\n"
          ]
        },
        {
          "metadata": {
            "tags": null
          },
          "name": "stdout",
          "output_type": "stream",
          "text": [
            "Epoch 10 average loss: 4.462186563636454          avg loss speed: 0.5573681869778015\n"
          ]
        },
        {
          "metadata": {
            "tags": null
          },
          "name": "stderr",
          "output_type": "stream",
          "text": [
            "Epoch 11/200: 100%|██████████| 211/211 [03:12<00:00,  1.10it/s, loss=3.88]\n"
          ]
        },
        {
          "metadata": {
            "tags": null
          },
          "name": "stdout",
          "output_type": "stream",
          "text": [
            "Epoch 11 average loss: 4.200638033202474          avg loss speed: 0.5369702805463357\n"
          ]
        },
        {
          "metadata": {
            "tags": null
          },
          "name": "stderr",
          "output_type": "stream",
          "text": [
            "Epoch 12/200: 100%|██████████| 211/211 [03:19<00:00,  1.06it/s, loss=3.3]\n"
          ]
        },
        {
          "metadata": {
            "tags": null
          },
          "name": "stdout",
          "output_type": "stream",
          "text": [
            "Epoch 12 average loss: 3.9309089144259266          avg loss speed: 0.5315134832267692\n"
          ]
        },
        {
          "metadata": {
            "tags": null
          },
          "name": "stderr",
          "output_type": "stream",
          "text": [
            "Epoch 13/200: 100%|██████████| 211/211 [02:06<00:00,  1.66it/s, loss=3.03]\n"
          ]
        },
        {
          "metadata": {
            "tags": null
          },
          "name": "stdout",
          "output_type": "stream",
          "text": [
            "Epoch 13 average loss: 3.6449290191957737          avg loss speed: 0.5529821512258448\n"
          ]
        },
        {
          "metadata": {
            "tags": null
          },
          "name": "stderr",
          "output_type": "stream",
          "text": [
            "Epoch 14/200: 100%|██████████| 211/211 [01:57<00:00,  1.80it/s, loss=4.13]\n"
          ]
        },
        {
          "metadata": {
            "tags": null
          },
          "name": "stdout",
          "output_type": "stream",
          "text": [
            "Epoch 14 average loss: 3.356792721703154          avg loss speed: 0.5686992672382374\n"
          ]
        },
        {
          "metadata": {
            "tags": null
          },
          "name": "stderr",
          "output_type": "stream",
          "text": [
            "Epoch 15/200: 100%|██████████| 211/211 [01:57<00:00,  1.79it/s, loss=2.87]\n"
          ]
        },
        {
          "metadata": {
            "tags": null
          },
          "name": "stdout",
          "output_type": "stream",
          "text": [
            "Epoch 15 average loss: 3.1394932371745177          avg loss speed: 0.5047169812671006\n"
          ]
        },
        {
          "metadata": {
            "tags": null
          },
          "name": "stderr",
          "output_type": "stream",
          "text": [
            "Epoch 16/200: 100%|██████████| 211/211 [01:57<00:00,  1.80it/s, loss=3.02]\n"
          ]
        },
        {
          "metadata": {
            "tags": null
          },
          "name": "stdout",
          "output_type": "stream",
          "text": [
            "Epoch 16 average loss: 2.907397612011263          avg loss speed: 0.4730073806798858\n"
          ]
        },
        {
          "metadata": {
            "tags": null
          },
          "name": "stderr",
          "output_type": "stream",
          "text": [
            "Epoch 17/200: 100%|██████████| 211/211 [01:56<00:00,  1.81it/s, loss=2.9]\n"
          ]
        },
        {
          "metadata": {
            "tags": null
          },
          "name": "stdout",
          "output_type": "stream",
          "text": [
            "Epoch 17 average loss: 2.619536259445534          avg loss speed: 0.5150249308507777\n"
          ]
        },
        {
          "metadata": {
            "tags": null
          },
          "name": "stderr",
          "output_type": "stream",
          "text": [
            "Epoch 18/200: 100%|██████████| 211/211 [01:57<00:00,  1.80it/s, loss=2.28]\n"
          ]
        },
        {
          "metadata": {
            "tags": null
          },
          "name": "stdout",
          "output_type": "stream",
          "text": [
            "Epoch 18 average loss: 2.403667932155573          avg loss speed: 0.48514110405486477\n"
          ]
        },
        {
          "metadata": {
            "tags": null
          },
          "name": "stderr",
          "output_type": "stream",
          "text": [
            "Epoch 19/200: 100%|██████████| 211/211 [01:57<00:00,  1.80it/s, loss=3.08]\n"
          ]
        },
        {
          "metadata": {
            "tags": null
          },
          "name": "stdout",
          "output_type": "stream",
          "text": [
            "Epoch 19 average loss: 2.135194015728919          avg loss speed: 0.508339918808538\n"
          ]
        },
        {
          "metadata": {
            "tags": null
          },
          "name": "stderr",
          "output_type": "stream",
          "text": [
            "Epoch 20/200: 100%|██████████| 211/211 [01:57<00:00,  1.79it/s, loss=2.5]\n"
          ]
        },
        {
          "metadata": {
            "tags": null
          },
          "name": "stdout",
          "output_type": "stream",
          "text": [
            "Epoch 20 average loss: 1.9386974270874855          avg loss speed: 0.44743530868919\n"
          ]
        },
        {
          "metadata": {
            "tags": null
          },
          "name": "stderr",
          "output_type": "stream",
          "text": [
            "Epoch 21/200: 100%|██████████| 211/211 [01:54<00:00,  1.85it/s, loss=2.13]\n"
          ]
        },
        {
          "metadata": {
            "tags": null
          },
          "name": "stdout",
          "output_type": "stream",
          "text": [
            "Epoch 21 average loss: 1.712147763696327          avg loss speed: 0.44703869462766566\n"
          ]
        },
        {
          "metadata": {
            "tags": null
          },
          "name": "stderr",
          "output_type": "stream",
          "text": [
            "Epoch 22/200: 100%|██████████| 211/211 [02:01<00:00,  1.74it/s, loss=2.37]\n"
          ]
        },
        {
          "metadata": {
            "tags": null
          },
          "name": "stdout",
          "output_type": "stream",
          "text": [
            "Epoch 22 average loss: 1.5759311703285335          avg loss speed: 0.3527485651757103\n"
          ]
        },
        {
          "metadata": {
            "tags": null
          },
          "name": "stderr",
          "output_type": "stream",
          "text": [
            "Epoch 23/200: 100%|██████████| 211/211 [01:57<00:00,  1.80it/s, loss=1.44]\n"
          ]
        },
        {
          "metadata": {
            "tags": null
          },
          "name": "stdout",
          "output_type": "stream",
          "text": [
            "Epoch 23 average loss: 1.3419031904771994          avg loss speed: 0.400355596560249\n"
          ]
        },
        {
          "metadata": {
            "tags": null
          },
          "name": "stderr",
          "output_type": "stream",
          "text": [
            "Epoch 24/200: 100%|██████████| 211/211 [02:00<00:00,  1.76it/s, loss=0.726]\n"
          ]
        },
        {
          "metadata": {
            "tags": null
          },
          "name": "stdout",
          "output_type": "stream",
          "text": [
            "Epoch 24 average loss: 1.2237231465877514          avg loss speed: 0.3196042282462688\n"
          ]
        },
        {
          "metadata": {
            "tags": null
          },
          "name": "stderr",
          "output_type": "stream",
          "text": [
            "Epoch 25/200: 100%|██████████| 211/211 [01:57<00:00,  1.80it/s, loss=0.324]\n"
          ]
        },
        {
          "metadata": {
            "tags": null
          },
          "name": "stdout",
          "output_type": "stream",
          "text": [
            "Epoch 25 average loss: 1.0345804584676055          avg loss speed: 0.34593871066355586\n"
          ]
        },
        {
          "metadata": {
            "tags": null
          },
          "name": "stderr",
          "output_type": "stream",
          "text": [
            "Epoch 26/200: 100%|██████████| 211/211 [01:57<00:00,  1.80it/s, loss=1.11]\n"
          ]
        },
        {
          "metadata": {
            "tags": null
          },
          "name": "stdout",
          "output_type": "stream",
          "text": [
            "Epoch 26 average loss: 0.895188447211591          avg loss speed: 0.30488048463259454\n"
          ]
        },
        {
          "metadata": {
            "tags": null
          },
          "name": "stderr",
          "output_type": "stream",
          "text": [
            "Epoch 27/200: 100%|██████████| 211/211 [01:57<00:00,  1.79it/s, loss=0.266]\n"
          ]
        },
        {
          "metadata": {
            "tags": null
          },
          "name": "stdout",
          "output_type": "stream",
          "text": [
            "Epoch 27 average loss: 0.7992366136744689          avg loss speed: 0.25192740374784695\n"
          ]
        },
        {
          "metadata": {
            "tags": null
          },
          "name": "stderr",
          "output_type": "stream",
          "text": [
            "Epoch 28/200: 100%|██████████| 211/211 [01:57<00:00,  1.79it/s, loss=1.3]\n"
          ]
        },
        {
          "metadata": {
            "tags": null
          },
          "name": "stdout",
          "output_type": "stream",
          "text": [
            "Epoch 28 average loss: 0.6646199077544337          avg loss speed: 0.24504859869678808\n"
          ]
        },
        {
          "metadata": {
            "tags": null
          },
          "name": "stderr",
          "output_type": "stream",
          "text": [
            "Epoch 29/200: 100%|██████████| 211/211 [01:58<00:00,  1.78it/s, loss=0.537]\n"
          ]
        },
        {
          "metadata": {
            "tags": null
          },
          "name": "stdout",
          "output_type": "stream",
          "text": [
            "Epoch 29 average loss: 0.5737719007401387          avg loss speed: 0.2125764221400258\n"
          ]
        },
        {
          "metadata": {
            "tags": null
          },
          "name": "stderr",
          "output_type": "stream",
          "text": [
            "Epoch 30/200: 100%|██████████| 211/211 [01:55<00:00,  1.82it/s, loss=0.8]\n"
          ]
        },
        {
          "metadata": {
            "tags": null
          },
          "name": "stdout",
          "output_type": "stream",
          "text": [
            "Epoch 30 average loss: 0.45421038838147554          avg loss speed: 0.2249990856748716\n"
          ]
        },
        {
          "metadata": {
            "tags": null
          },
          "name": "stderr",
          "output_type": "stream",
          "text": [
            "Epoch 31/200: 100%|██████████| 211/211 [01:54<00:00,  1.85it/s, loss=0.0583]\n"
          ]
        },
        {
          "metadata": {
            "tags": null
          },
          "name": "stdout",
          "output_type": "stream",
          "text": [
            "Epoch 31 average loss: 0.36526484409638493          avg loss speed: 0.19893588819563102 epochs left: 0.33\n"
          ]
        },
        {
          "metadata": {
            "tags": null
          },
          "name": "stderr",
          "output_type": "stream",
          "text": [
            "Epoch 32/200: 100%|██████████| 211/211 [01:56<00:00,  1.81it/s, loss=0.32]\n"
          ]
        },
        {
          "metadata": {
            "tags": null
          },
          "name": "stdout",
          "output_type": "stream",
          "text": [
            "Epoch 32 average loss: 0.3143778439275744          avg loss speed: 0.1500378671450921 epochs left: 0.10\n"
          ]
        },
        {
          "metadata": {
            "tags": null
          },
          "name": "stderr",
          "output_type": "stream",
          "text": [
            "Epoch 33/200: 100%|██████████| 211/211 [01:56<00:00,  1.81it/s, loss=0.0516]\n"
          ]
        },
        {
          "metadata": {
            "tags": null
          },
          "name": "stdout",
          "output_type": "stream",
          "text": [
            "Epoch 33 average loss: 0.24729975838196502          avg loss speed: 0.13065126708651328 epochs left: 0.40\n"
          ]
        },
        {
          "metadata": {
            "tags": null
          },
          "name": "stderr",
          "output_type": "stream",
          "text": [
            "Epoch 34/200: 100%|██████████| 211/211 [01:57<00:00,  1.79it/s, loss=0.0542]\n"
          ]
        },
        {
          "metadata": {
            "tags": null
          },
          "name": "stdout",
          "output_type": "stream",
          "text": [
            "Epoch 34 average loss: 0.20140717126499702          avg loss speed: 0.10757364420364446 epochs left: 0.92\n"
          ]
        },
        {
          "metadata": {
            "tags": null
          },
          "name": "stderr",
          "output_type": "stream",
          "text": [
            "Epoch 35/200: 100%|██████████| 211/211 [01:57<00:00,  1.79it/s, loss=0.457]\n"
          ]
        },
        {
          "metadata": {
            "tags": null
          },
          "name": "stdout",
          "output_type": "stream",
          "text": [
            "Epoch 35 average loss: 0.1592843101417284          avg loss speed: 0.0950772810497838 epochs left: 1.48\n"
          ]
        },
        {
          "metadata": {
            "tags": null
          },
          "name": "stderr",
          "output_type": "stream",
          "text": [
            "Epoch 36/200: 100%|██████████| 211/211 [01:56<00:00,  1.82it/s, loss=0.0601]\n"
          ]
        },
        {
          "metadata": {
            "tags": null
          },
          "name": "stdout",
          "output_type": "stream",
          "text": [
            "Epoch 36 average loss: 0.12667490872091028          avg loss speed: 0.07598883787531985 epochs left: 2.28\n"
          ]
        },
        {
          "metadata": {
            "tags": null
          },
          "name": "stderr",
          "output_type": "stream",
          "text": [
            "Epoch 37/200: 100%|██████████| 211/211 [01:56<00:00,  1.81it/s, loss=0.335]\n"
          ]
        },
        {
          "metadata": {
            "tags": null
          },
          "name": "stdout",
          "output_type": "stream",
          "text": [
            "Epoch 37 average loss: 0.0980246240158358          avg loss speed: 0.06443083936004278 epochs left: 3.13\n"
          ]
        },
        {
          "metadata": {
            "tags": null
          },
          "name": "stderr",
          "output_type": "stream",
          "text": [
            "Epoch 38/200: 100%|██████████| 211/211 [01:57<00:00,  1.80it/s, loss=0.216]\n"
          ]
        },
        {
          "metadata": {
            "tags": null
          },
          "name": "stdout",
          "output_type": "stream",
          "text": [
            "Epoch 38 average loss: 0.07326423850404849          avg loss speed: 0.054730375788776306 epochs left: 4.14\n"
          ]
        },
        {
          "metadata": {
            "tags": null
          },
          "name": "stderr",
          "output_type": "stream",
          "text": [
            "Epoch 39/200: 100%|██████████| 211/211 [01:58<00:00,  1.78it/s, loss=0.0385]\n"
          ]
        },
        {
          "metadata": {
            "tags": null
          },
          "name": "stdout",
          "output_type": "stream",
          "text": [
            "Epoch 39 average loss: 0.05556687894078651          avg loss speed: 0.04375437813947835 epochs left: 5.59\n"
          ]
        },
        {
          "metadata": {
            "tags": null
          },
          "name": "stderr",
          "output_type": "stream",
          "text": [
            "Epoch 40/200: 100%|██████████| 211/211 [01:56<00:00,  1.82it/s, loss=0.112]\n"
          ]
        },
        {
          "metadata": {
            "tags": null
          },
          "name": "stdout",
          "output_type": "stream",
          "text": [
            "Epoch 40 average loss: 0.0402469188681146          avg loss speed: 0.03537166161877567 epochs left: 7.34\n"
          ]
        },
        {
          "metadata": {
            "tags": null
          },
          "name": "stderr",
          "output_type": "stream",
          "text": [
            "Epoch 41/200: 100%|██████████| 211/211 [01:55<00:00,  1.83it/s, loss=0.00748]\n"
          ]
        },
        {
          "metadata": {
            "tags": null
          },
          "name": "stdout",
          "output_type": "stream",
          "text": [
            "Epoch 41 average loss: 0.029079500162064748          avg loss speed: 0.027279845275585118 epochs left: 9.93\n"
          ]
        },
        {
          "metadata": {
            "tags": null
          },
          "name": "stderr",
          "output_type": "stream",
          "text": [
            "Epoch 42/200: 100%|██████████| 211/211 [01:58<00:00,  1.78it/s, loss=0.02]\n"
          ]
        },
        {
          "metadata": {
            "tags": null
          },
          "name": "stdout",
          "output_type": "stream",
          "text": [
            "Epoch 42 average loss: 0.024493825599833687          avg loss speed: 0.0171372737238216 epochs left: 16.08\n"
          ]
        },
        {
          "metadata": {
            "tags": null
          },
          "name": "stderr",
          "output_type": "stream",
          "text": [
            "Epoch 43/200: 100%|██████████| 211/211 [01:58<00:00,  1.78it/s, loss=0.00639]\n"
          ]
        },
        {
          "metadata": {
            "tags": null
          },
          "name": "stdout",
          "output_type": "stream",
          "text": [
            "Epoch 43 average loss: 0.022633041155864418          avg loss speed: 0.008640373720806595 epochs left: 32.10\n"
          ]
        },
        {
          "metadata": {
            "tags": null
          },
          "name": "stderr",
          "output_type": "stream",
          "text": [
            "Epoch 44/200: 100%|██████████| 211/211 [01:57<00:00,  1.80it/s, loss=0.0175]\n"
          ]
        },
        {
          "metadata": {
            "tags": null
          },
          "name": "stdout",
          "output_type": "stream",
          "text": [
            "Epoch 44 average loss: 0.01828024458246067          avg loss speed: 0.007121877723460283 epochs left: 39.56\n"
          ]
        },
        {
          "metadata": {
            "tags": null
          },
          "name": "stderr",
          "output_type": "stream",
          "text": [
            "Epoch 45/200: 100%|██████████| 211/211 [01:54<00:00,  1.84it/s, loss=0.00739]\n"
          ]
        },
        {
          "metadata": {
            "tags": null
          },
          "name": "stdout",
          "output_type": "stream",
          "text": [
            "Epoch 45 average loss: 0.020492539685925744          avg loss speed: 0.0013098307601271779 epochs left: 213.39\n"
          ]
        },
        {
          "metadata": {
            "tags": null
          },
          "name": "stderr",
          "output_type": "stream",
          "text": [
            "Epoch 46/200: 100%|██████████| 211/211 [01:59<00:00,  1.77it/s, loss=0.0119]\n"
          ]
        },
        {
          "metadata": {
            "tags": null
          },
          "name": "stdout",
          "output_type": "stream",
          "text": [
            "Epoch 46 average loss: 0.014428926600911324          avg loss speed: 0.0060396818738389525 epochs left: 47.28\n"
          ]
        },
        {
          "metadata": {
            "tags": null
          },
          "name": "stderr",
          "output_type": "stream",
          "text": [
            "Epoch 47/200: 100%|██████████| 211/211 [01:58<00:00,  1.78it/s, loss=0.00423]\n"
          ]
        },
        {
          "metadata": {
            "tags": null
          },
          "name": "stdout",
          "output_type": "stream",
          "text": [
            "Epoch 47 average loss: 0.009133709154325709          avg loss speed: 0.008600194468773536 epochs left: 33.82\n"
          ]
        },
        {
          "metadata": {
            "tags": null
          },
          "name": "stderr",
          "output_type": "stream",
          "text": [
            "Epoch 48/200: 100%|██████████| 211/211 [01:55<00:00,  1.83it/s, loss=0.00562]\n"
          ]
        },
        {
          "metadata": {
            "tags": null
          },
          "name": "stdout",
          "output_type": "stream",
          "text": [
            "Epoch 48 average loss: 0.007495466826077533          avg loss speed: 0.007189591654310059 epochs left: 40.68\n"
          ]
        },
        {
          "metadata": {
            "tags": null
          },
          "name": "stderr",
          "output_type": "stream",
          "text": [
            "Epoch 49/200: 100%|██████████| 211/211 [01:51<00:00,  1.89it/s, loss=0.00576]\n"
          ]
        },
        {
          "metadata": {
            "tags": null
          },
          "name": "stdout",
          "output_type": "stream",
          "text": [
            "Epoch 49 average loss: 0.009815638838556564          avg loss speed: 0.0005370620218816229 epochs left: 540.32\n"
          ]
        },
        {
          "metadata": {
            "tags": null
          },
          "name": "stderr",
          "output_type": "stream",
          "text": [
            "Epoch 50/200: 100%|██████████| 211/211 [01:56<00:00,  1.82it/s, loss=0.0242]\n"
          ]
        },
        {
          "metadata": {
            "tags": null
          },
          "name": "stdout",
          "output_type": "stream",
          "text": [
            "Epoch 50 average loss: 0.012365427938559185          avg loss speed: -0.0035504896655725836\n"
          ]
        },
        {
          "metadata": {
            "tags": null
          },
          "name": "stderr",
          "output_type": "stream",
          "text": [
            "Epoch 51/200: 100%|██████████| 211/211 [01:56<00:00,  1.82it/s, loss=0.0123]\n"
          ]
        },
        {
          "metadata": {
            "tags": null
          },
          "name": "stdout",
          "output_type": "stream",
          "text": [
            "Epoch 51 average loss: 0.008235214430379783          avg loss speed: 0.0016569634373513123 epochs left: 176.08\n"
          ]
        },
        {
          "metadata": {
            "tags": null
          },
          "name": "stderr",
          "output_type": "stream",
          "text": [
            "Epoch 52/200: 100%|██████████| 211/211 [01:57<00:00,  1.79it/s, loss=0.00319]\n"
          ]
        },
        {
          "metadata": {
            "tags": null
          },
          "name": "stdout",
          "output_type": "stream",
          "text": [
            "Epoch 52 average loss: 0.0053112280126925895          avg loss speed: 0.004827532389805921 epochs left: 61.04\n"
          ]
        },
        {
          "metadata": {
            "tags": null
          },
          "name": "stderr",
          "output_type": "stream",
          "text": [
            "Epoch 53/200: 100%|██████████| 211/211 [01:56<00:00,  1.81it/s, loss=0.00212]\n"
          ]
        },
        {
          "metadata": {
            "tags": null
          },
          "name": "stdout",
          "output_type": "stream",
          "text": [
            "Epoch 53 average loss: 0.004280638091500089          avg loss speed: 0.004356652035710429 epochs left: 67.88\n"
          ]
        },
        {
          "metadata": {
            "tags": null
          },
          "name": "stderr",
          "output_type": "stream",
          "text": [
            "Epoch 54/200: 100%|██████████| 211/211 [01:58<00:00,  1.78it/s, loss=0.00194]\n"
          ]
        },
        {
          "metadata": {
            "tags": null
          },
          "name": "stdout",
          "output_type": "stream",
          "text": [
            "Epoch 54 average loss: 0.003921735711214773          avg loss speed: 0.0020206244669760476 epochs left: 146.53\n"
          ]
        },
        {
          "metadata": {
            "tags": null
          },
          "name": "stderr",
          "output_type": "stream",
          "text": [
            "Epoch 55/200: 100%|██████████| 211/211 [01:59<00:00,  1.77it/s, loss=0.00232]\n"
          ]
        },
        {
          "metadata": {
            "tags": null
          },
          "name": "stdout",
          "output_type": "stream",
          "text": [
            "Epoch 55 average loss: 0.0035744265397189634          avg loss speed: 0.0009301073987501877 epochs left: 318.70\n"
          ]
        },
        {
          "metadata": {
            "tags": null
          },
          "name": "stderr",
          "output_type": "stream",
          "text": [
            "Epoch 56/200: 100%|██████████| 211/211 [01:56<00:00,  1.81it/s, loss=0.00181]\n"
          ]
        },
        {
          "metadata": {
            "tags": null
          },
          "name": "stdout",
          "output_type": "stream",
          "text": [
            "Epoch 56 average loss: 0.003371186352498229          avg loss speed: 0.0005544137616463793 epochs left: 535.03\n"
          ]
        },
        {
          "metadata": {
            "tags": null
          },
          "name": "stderr",
          "output_type": "stream",
          "text": [
            "Epoch 57/200: 100%|██████████| 211/211 [01:52<00:00,  1.87it/s, loss=0.00189]\n"
          ]
        },
        {
          "metadata": {
            "tags": null
          },
          "name": "stdout",
          "output_type": "stream",
          "text": [
            "Epoch 57 average loss: 0.003789799616195403          avg loss speed: -0.00016735008171808122\n"
          ]
        },
        {
          "metadata": {
            "tags": null
          },
          "name": "stderr",
          "output_type": "stream",
          "text": [
            "Epoch 58/200: 100%|██████████| 211/211 [01:57<00:00,  1.80it/s, loss=0.00149]\n"
          ]
        },
        {
          "metadata": {
            "tags": null
          },
          "name": "stdout",
          "output_type": "stream",
          "text": [
            "Epoch 58 average loss: 0.003973982214676084          avg loss speed: -0.00039551137853855193\n"
          ]
        },
        {
          "metadata": {
            "tags": null
          },
          "name": "stderr",
          "output_type": "stream",
          "text": [
            "Epoch 59/200: 100%|██████████| 211/211 [01:55<00:00,  1.82it/s, loss=0.00157]\n"
          ]
        },
        {
          "metadata": {
            "tags": null
          },
          "name": "stdout",
          "output_type": "stream",
          "text": [
            "Epoch 59 average loss: 0.002900056460413252          avg loss speed: 0.000811599600709987 epochs left: 366.07\n"
          ]
        },
        {
          "metadata": {
            "tags": null
          },
          "name": "stderr",
          "output_type": "stream",
          "text": [
            "Epoch 60/200: 100%|██████████| 211/211 [01:57<00:00,  1.80it/s, loss=0.00144]\n"
          ]
        },
        {
          "metadata": {
            "tags": null
          },
          "name": "stdout",
          "output_type": "stream",
          "text": [
            "Epoch 60 average loss: 0.0026727983875915197          avg loss speed: 0.0008818143761700602 epochs left: 337.18\n"
          ]
        },
        {
          "metadata": {
            "tags": null
          },
          "name": "stderr",
          "output_type": "stream",
          "text": [
            "Epoch 61/200: 100%|██████████| 211/211 [01:56<00:00,  1.80it/s, loss=0.00256]\n"
          ]
        },
        {
          "metadata": {
            "tags": null
          },
          "name": "stdout",
          "output_type": "stream",
          "text": [
            "Epoch 61 average loss: 0.0028899565429572386          avg loss speed: 0.00029232247793637995 epochs left: 1016.38\n"
          ]
        },
        {
          "metadata": {
            "tags": null
          },
          "name": "stderr",
          "output_type": "stream",
          "text": [
            "Epoch 62/200: 100%|██████████| 211/211 [01:56<00:00,  1.81it/s, loss=0.00604]\n"
          ]
        },
        {
          "metadata": {
            "tags": null
          },
          "name": "stdout",
          "output_type": "stream",
          "text": [
            "Epoch 62 average loss: 0.01932817040688813          avg loss speed: -0.01650723327656746\n"
          ]
        },
        {
          "metadata": {
            "tags": null
          },
          "name": "stderr",
          "output_type": "stream",
          "text": [
            "Epoch 63/200: 100%|██████████| 211/211 [01:56<00:00,  1.81it/s, loss=0.00531]\n"
          ]
        },
        {
          "metadata": {
            "tags": null
          },
          "name": "stdout",
          "output_type": "stream",
          "text": [
            "Epoch 63 average loss: 0.011951528494003542          avg loss speed: -0.003654553381524579\n"
          ]
        },
        {
          "metadata": {
            "tags": null
          },
          "name": "stderr",
          "output_type": "stream",
          "text": [
            "Epoch 64/200: 100%|██████████| 211/211 [01:56<00:00,  1.81it/s, loss=0.00349]\n"
          ]
        },
        {
          "metadata": {
            "tags": null
          },
          "name": "stdout",
          "output_type": "stream",
          "text": [
            "Epoch 64 average loss: 0.004733575080406644          avg loss speed: 0.0066563100675429915 epochs left: 44.36\n"
          ]
        },
        {
          "metadata": {
            "tags": null
          },
          "name": "stderr",
          "output_type": "stream",
          "text": [
            "Epoch 65/200: 100%|██████████| 211/211 [01:57<00:00,  1.80it/s, loss=0.00219]\n"
          ]
        },
        {
          "metadata": {
            "tags": null
          },
          "name": "stdout",
          "output_type": "stream",
          "text": [
            "Epoch 65 average loss: 0.0037438296415000026          avg loss speed: 0.00826059501893277 epochs left: 35.86\n"
          ]
        },
        {
          "metadata": {
            "tags": null
          },
          "name": "stderr",
          "output_type": "stream",
          "text": [
            "Epoch 66/200: 100%|██████████| 211/211 [01:57<00:00,  1.80it/s, loss=0.00129]\n"
          ]
        },
        {
          "metadata": {
            "tags": null
          },
          "name": "stdout",
          "output_type": "stream",
          "text": [
            "Epoch 66 average loss: 0.003222047647028738          avg loss speed: 0.003587596758274658 epochs left: 82.72\n"
          ]
        },
        {
          "metadata": {
            "tags": null
          },
          "name": "stderr",
          "output_type": "stream",
          "text": [
            "Epoch 67/200: 100%|██████████| 211/211 [01:55<00:00,  1.82it/s, loss=0.00105]\n"
          ]
        },
        {
          "metadata": {
            "tags": null
          },
          "name": "stdout",
          "output_type": "stream",
          "text": [
            "Epoch 67 average loss: 0.0027508123530079367          avg loss speed: 0.0011490051033038583 epochs left: 258.70\n"
          ]
        },
        {
          "metadata": {
            "tags": null
          },
          "name": "stderr",
          "output_type": "stream",
          "text": [
            "Epoch 68/200: 100%|██████████| 211/211 [01:58<00:00,  1.78it/s, loss=0.001]\n"
          ]
        },
        {
          "metadata": {
            "tags": null
          },
          "name": "stdout",
          "output_type": "stream",
          "text": [
            "Epoch 68 average loss: 0.002579746348838547          avg loss speed: 0.0006591501983403453 epochs left: 451.22\n"
          ]
        },
        {
          "metadata": {
            "tags": null
          },
          "name": "stderr",
          "output_type": "stream",
          "text": [
            "Epoch 69/200: 100%|██████████| 211/211 [01:58<00:00,  1.78it/s, loss=0.00644]\n"
          ]
        },
        {
          "metadata": {
            "tags": null
          },
          "name": "stdout",
          "output_type": "stream",
          "text": [
            "Epoch 69 average loss: 0.002994415065840822          avg loss speed: -0.000143546282882415\n"
          ]
        },
        {
          "metadata": {
            "tags": null
          },
          "name": "stderr",
          "output_type": "stream",
          "text": [
            "Epoch 70/200: 100%|██████████| 211/211 [01:56<00:00,  1.82it/s, loss=0.0012]\n"
          ]
        },
        {
          "metadata": {
            "tags": null
          },
          "name": "stdout",
          "output_type": "stream",
          "text": [
            "Epoch 70 average loss: 0.0031368894175895583          avg loss speed: -0.0003618981616937897\n"
          ]
        },
        {
          "metadata": {
            "tags": null
          },
          "name": "stderr",
          "output_type": "stream",
          "text": [
            "Epoch 71/200: 100%|██████████| 211/211 [01:52<00:00,  1.87it/s, loss=0.000653]\n"
          ]
        },
        {
          "metadata": {
            "tags": null
          },
          "name": "stdout",
          "output_type": "stream",
          "text": [
            "Epoch 71 average loss: 0.002823629919980251          avg loss speed: 8.005369077605795e-05 epochs left: 3712.21\n"
          ]
        },
        {
          "metadata": {
            "tags": null
          },
          "name": "stderr",
          "output_type": "stream",
          "text": [
            "Epoch 72/200: 100%|██████████| 211/211 [01:59<00:00,  1.77it/s, loss=0.000648]\n"
          ]
        },
        {
          "metadata": {
            "tags": null
          },
          "name": "stdout",
          "output_type": "stream",
          "text": [
            "Epoch 72 average loss: 0.0028614783510609895          avg loss speed: 0.00012349978340922118 epochs left: 2405.98\n"
          ]
        },
        {
          "metadata": {
            "tags": null
          },
          "name": "stderr",
          "output_type": "stream",
          "text": [
            "Epoch 73/200: 100%|██████████| 211/211 [01:55<00:00,  1.83it/s, loss=0.00426]\n"
          ]
        },
        {
          "metadata": {
            "tags": null
          },
          "name": "stdout",
          "output_type": "stream",
          "text": [
            "Epoch 73 average loss: 0.002792513084054982          avg loss speed: 0.00014815281215528435 epochs left: 2006.09\n"
          ]
        },
        {
          "metadata": {
            "tags": null
          },
          "name": "stderr",
          "output_type": "stream",
          "text": [
            "Epoch 74/200: 100%|██████████| 211/211 [01:56<00:00,  1.81it/s, loss=0.00199]\n"
          ]
        },
        {
          "metadata": {
            "tags": null
          },
          "name": "stdout",
          "output_type": "stream",
          "text": [
            "Epoch 74 average loss: 0.0028334500667279348          avg loss speed: -7.576281695860672e-06\n"
          ]
        },
        {
          "metadata": {
            "tags": null
          },
          "name": "stderr",
          "output_type": "stream",
          "text": [
            "Epoch 75/200: 100%|██████████| 211/211 [01:55<00:00,  1.83it/s, loss=0.000476]\n"
          ]
        },
        {
          "metadata": {
            "tags": null
          },
          "name": "stdout",
          "output_type": "stream",
          "text": [
            "Epoch 75 average loss: 0.0025470669206697494          avg loss speed: 0.0002820802466115529 epochs left: 1054.50\n"
          ]
        },
        {
          "metadata": {
            "tags": null
          },
          "name": "stderr",
          "output_type": "stream",
          "text": [
            "Epoch 76/200: 100%|██████████| 211/211 [01:58<00:00,  1.79it/s, loss=0.00211]\n"
          ]
        },
        {
          "metadata": {
            "tags": null
          },
          "name": "stdout",
          "output_type": "stream",
          "text": [
            "Epoch 76 average loss: 0.002416769846759613          avg loss speed: 0.0003075735103912759 epochs left: 967.52\n"
          ]
        },
        {
          "metadata": {
            "tags": null
          },
          "name": "stderr",
          "output_type": "stream",
          "text": [
            "Epoch 77/200: 100%|██████████| 211/211 [01:55<00:00,  1.82it/s, loss=0.000488]\n"
          ]
        },
        {
          "metadata": {
            "tags": null
          },
          "name": "stdout",
          "output_type": "stream",
          "text": [
            "Epoch 77 average loss: 0.0026215713685521884          avg loss speed: -2.247575716642254e-05\n"
          ]
        },
        {
          "metadata": {
            "tags": null
          },
          "name": "stderr",
          "output_type": "stream",
          "text": [
            "Epoch 78/200: 100%|██████████| 211/211 [01:56<00:00,  1.81it/s, loss=0.00235]\n"
          ]
        },
        {
          "metadata": {
            "tags": null
          },
          "name": "stdout",
          "output_type": "stream",
          "text": [
            "Epoch 78 average loss: 0.0023348153938740155          avg loss speed: 0.00019365398478650127 epochs left: 1537.10\n"
          ]
        },
        {
          "metadata": {
            "tags": null
          },
          "name": "stderr",
          "output_type": "stream",
          "text": [
            "Epoch 79/200: 100%|██████████| 211/211 [01:59<00:00,  1.77it/s, loss=0.000928]\n"
          ]
        },
        {
          "metadata": {
            "tags": null
          },
          "name": "stdout",
          "output_type": "stream",
          "text": [
            "Epoch 79 average loss: 0.0021652063601473744          avg loss speed: 0.00029251250958123136 epochs left: 1018.20\n"
          ]
        },
        {
          "metadata": {
            "tags": null
          },
          "name": "stderr",
          "output_type": "stream",
          "text": [
            "Epoch 80/200: 100%|██████████| 211/211 [02:00<00:00,  1.75it/s, loss=0.000702]\n"
          ]
        },
        {
          "metadata": {
            "tags": null
          },
          "name": "stdout",
          "output_type": "stream",
          "text": [
            "Epoch 80 average loss: 0.0022854194754317525          avg loss speed: 8.844489875944059e-05 epochs left: 3366.10\n"
          ]
        },
        {
          "metadata": {
            "tags": null
          },
          "name": "stderr",
          "output_type": "stream",
          "text": [
            "Epoch 81/200: 100%|██████████| 211/211 [01:57<00:00,  1.80it/s, loss=0.00546]\n"
          ]
        },
        {
          "metadata": {
            "tags": null
          },
          "name": "stdout",
          "output_type": "stream",
          "text": [
            "Epoch 81 average loss: 0.013315169624151149          avg loss speed: -0.011053355881000102\n"
          ]
        },
        {
          "metadata": {
            "tags": null
          },
          "name": "stderr",
          "output_type": "stream",
          "text": [
            "Epoch 82/200: 100%|██████████| 211/211 [01:58<00:00,  1.78it/s, loss=0.0029]\n"
          ]
        },
        {
          "metadata": {
            "tags": null
          },
          "name": "stdout",
          "output_type": "stream",
          "text": [
            "Epoch 82 average loss: 0.009633403081641095          avg loss speed: -0.0037114712617310032\n"
          ]
        },
        {
          "metadata": {
            "tags": null
          },
          "name": "stderr",
          "output_type": "stream",
          "text": [
            "Epoch 83/200: 100%|██████████| 211/211 [01:58<00:00,  1.77it/s, loss=0.00217]\n"
          ]
        },
        {
          "metadata": {
            "tags": null
          },
          "name": "stdout",
          "output_type": "stream",
          "text": [
            "Epoch 83 average loss: 0.005994277093691919          avg loss speed: 0.002417053633382747 epochs left: 121.64\n"
          ]
        },
        {
          "metadata": {
            "tags": null
          },
          "name": "stderr",
          "output_type": "stream",
          "text": [
            "Epoch 84/200: 100%|██████████| 211/211 [01:57<00:00,  1.80it/s, loss=0.00221]\n"
          ]
        },
        {
          "metadata": {
            "tags": null
          },
          "name": "stdout",
          "output_type": "stream",
          "text": [
            "Epoch 84 average loss: 0.003614627144860007          avg loss speed: 0.006032989454968048 epochs left: 49.13\n"
          ]
        },
        {
          "metadata": {
            "tags": null
          },
          "name": "stderr",
          "output_type": "stream",
          "text": [
            "Epoch 85/200: 100%|██████████| 211/211 [01:55<00:00,  1.82it/s, loss=0.00273]\n"
          ]
        },
        {
          "metadata": {
            "tags": null
          },
          "name": "stdout",
          "output_type": "stream",
          "text": [
            "Epoch 85 average loss: 0.002284313013591755          avg loss speed: 0.004129789426472586 epochs left: 72.09\n"
          ]
        },
        {
          "metadata": {
            "tags": null
          },
          "name": "stderr",
          "output_type": "stream",
          "text": [
            "Epoch 86/200: 100%|██████████| 211/211 [01:56<00:00,  1.80it/s, loss=0.000623]\n"
          ]
        },
        {
          "metadata": {
            "tags": null
          },
          "name": "stdout",
          "output_type": "stream",
          "text": [
            "Epoch 86 average loss: 0.002660250158261031          avg loss speed: 0.0013041555924535298 epochs left: 227.99\n"
          ]
        },
        {
          "metadata": {
            "tags": null
          },
          "name": "stderr",
          "output_type": "stream",
          "text": [
            "Epoch 87/200: 100%|██████████| 211/211 [01:59<00:00,  1.77it/s, loss=0.000704]\n"
          ]
        },
        {
          "metadata": {
            "tags": null
          },
          "name": "stdout",
          "output_type": "stream",
          "text": [
            "Epoch 87 average loss: 0.0026112177761788017          avg loss speed: 0.0002418456627254627 epochs left: 1229.66\n"
          ]
        },
        {
          "metadata": {
            "tags": null
          },
          "name": "stderr",
          "output_type": "stream",
          "text": [
            "Epoch 88/200: 100%|██████████| 211/211 [01:55<00:00,  1.83it/s, loss=0.000616]\n"
          ]
        },
        {
          "metadata": {
            "tags": null
          },
          "name": "stdout",
          "output_type": "stream",
          "text": [
            "Epoch 88 average loss: 0.0027538734729295835          avg loss speed: -0.00023527982358572102\n"
          ]
        },
        {
          "metadata": {
            "tags": null
          },
          "name": "stderr",
          "output_type": "stream",
          "text": [
            "Epoch 89/200: 100%|██████████| 211/211 [01:55<00:00,  1.82it/s, loss=0.000445]\n"
          ]
        },
        {
          "metadata": {
            "tags": null
          },
          "name": "stdout",
          "output_type": "stream",
          "text": [
            "Epoch 89 average loss: 0.002121309289913978          avg loss speed: 0.0005538045125424943 epochs left: 537.88\n"
          ]
        },
        {
          "metadata": {
            "tags": null
          },
          "name": "stderr",
          "output_type": "stream",
          "text": [
            "Epoch 90/200: 100%|██████████| 211/211 [01:58<00:00,  1.78it/s, loss=0.000639]\n"
          ]
        },
        {
          "metadata": {
            "tags": null
          },
          "name": "stdout",
          "output_type": "stream",
          "text": [
            "Epoch 90 average loss: 0.0025943929095856265          avg loss speed: -9.892606324483867e-05\n"
          ]
        },
        {
          "metadata": {
            "tags": null
          },
          "name": "stderr",
          "output_type": "stream",
          "text": [
            "Epoch 91/200: 100%|██████████| 211/211 [01:58<00:00,  1.78it/s, loss=0.0011]\n"
          ]
        },
        {
          "metadata": {
            "tags": null
          },
          "name": "stdout",
          "output_type": "stream",
          "text": [
            "Epoch 91 average loss: 0.002788217308472012          avg loss speed: -0.00029835875099561626\n"
          ]
        },
        {
          "metadata": {
            "tags": null
          },
          "name": "stderr",
          "output_type": "stream",
          "text": [
            "Epoch 92/200: 100%|██████████| 211/211 [01:56<00:00,  1.81it/s, loss=0.00163]\n"
          ]
        },
        {
          "metadata": {
            "tags": null
          },
          "name": "stdout",
          "output_type": "stream",
          "text": [
            "Epoch 92 average loss: 0.0029707420798034023          avg loss speed: -0.00046943557714619654\n"
          ]
        },
        {
          "metadata": {
            "tags": null
          },
          "name": "stderr",
          "output_type": "stream",
          "text": [
            "Epoch 93/200: 100%|██████████| 211/211 [01:55<00:00,  1.83it/s, loss=0.000748]\n"
          ]
        },
        {
          "metadata": {
            "tags": null
          },
          "name": "stdout",
          "output_type": "stream",
          "text": [
            "Epoch 93 average loss: 0.0022632291771403088          avg loss speed: 0.0005212215888133714 epochs left: 571.23\n"
          ]
        },
        {
          "metadata": {
            "tags": null
          },
          "name": "stderr",
          "output_type": "stream",
          "text": [
            "Epoch 94/200: 100%|██████████| 211/211 [01:57<00:00,  1.79it/s, loss=0.0123]\n"
          ]
        },
        {
          "metadata": {
            "tags": null
          },
          "name": "stdout",
          "output_type": "stream",
          "text": [
            "Epoch 94 average loss: 0.002658663379906796          avg loss speed: 1.539947523177855e-05 epochs left: 19308.54\n"
          ]
        },
        {
          "metadata": {
            "tags": null
          },
          "name": "stderr",
          "output_type": "stream",
          "text": [
            "Epoch 95/200: 100%|██████████| 211/211 [01:58<00:00,  1.78it/s, loss=0.000889]\n"
          ]
        },
        {
          "metadata": {
            "tags": null
          },
          "name": "stdout",
          "output_type": "stream",
          "text": [
            "Epoch 95 average loss: 0.0025365977431923343          avg loss speed: 9.428046909116822e-05 epochs left: 3155.09\n"
          ]
        },
        {
          "metadata": {
            "tags": null
          },
          "name": "stderr",
          "output_type": "stream",
          "text": [
            "Epoch 96/200: 100%|██████████| 211/211 [01:58<00:00,  1.78it/s, loss=0.000438]\n"
          ]
        },
        {
          "metadata": {
            "tags": null
          },
          "name": "stdout",
          "output_type": "stream",
          "text": [
            "Epoch 96 average loss: 0.0023265318176488425          avg loss speed: 0.00015963161576430405 epochs left: 1864.75\n"
          ]
        },
        {
          "metadata": {
            "tags": null
          },
          "name": "stderr",
          "output_type": "stream",
          "text": [
            "Epoch 97/200: 100%|██████████| 211/211 [01:58<00:00,  1.77it/s, loss=0.000808]\n"
          ]
        },
        {
          "metadata": {
            "tags": null
          },
          "name": "stdout",
          "output_type": "stream",
          "text": [
            "Epoch 97 average loss: 0.002585247275557466          avg loss speed: -7.798296197480828e-05\n"
          ]
        },
        {
          "metadata": {
            "tags": null
          },
          "name": "stderr",
          "output_type": "stream",
          "text": [
            "Epoch 98/200: 100%|██████████| 211/211 [01:58<00:00,  1.79it/s, loss=0.002]\n"
          ]
        },
        {
          "metadata": {
            "tags": null
          },
          "name": "stdout",
          "output_type": "stream",
          "text": [
            "Epoch 98 average loss: 0.002114500714299353          avg loss speed: 0.0003682915645001946 epochs left: 808.83\n"
          ]
        },
        {
          "metadata": {
            "tags": null
          },
          "name": "stderr",
          "output_type": "stream",
          "text": [
            "Epoch 99/200: 100%|██████████| 211/211 [01:56<00:00,  1.82it/s, loss=0.0019]\n"
          ]
        },
        {
          "metadata": {
            "tags": null
          },
          "name": "stdout",
          "output_type": "stream",
          "text": [
            "Epoch 99 average loss: 0.0025107151080006776          avg loss speed: -0.00016862183883212386\n"
          ]
        },
        {
          "metadata": {
            "tags": null
          },
          "name": "stderr",
          "output_type": "stream",
          "text": [
            "Epoch 100/200: 100%|██████████| 211/211 [01:58<00:00,  1.78it/s, loss=0.000392]\n"
          ]
        },
        {
          "metadata": {
            "tags": null
          },
          "name": "stdout",
          "output_type": "stream",
          "text": [
            "Epoch 100 average loss: 0.0024539945998573367          avg loss speed: -5.05069005715046e-05\n"
          ]
        },
        {
          "metadata": {
            "tags": null
          },
          "name": "stderr",
          "output_type": "stream",
          "text": [
            "Epoch 101/200: 100%|██████████| 211/211 [01:56<00:00,  1.81it/s, loss=0.000963]\n"
          ]
        },
        {
          "metadata": {
            "tags": null
          },
          "name": "stdout",
          "output_type": "stream",
          "text": [
            "Epoch 101 average loss: 0.002248256836666933          avg loss speed: 0.00011147997071885626 epochs left: 2670.90\n"
          ]
        },
        {
          "metadata": {
            "tags": null
          },
          "name": "stderr",
          "output_type": "stream",
          "text": [
            "Epoch 102/200: 100%|██████████| 211/211 [01:58<00:00,  1.78it/s, loss=0.0012]\n"
          ]
        },
        {
          "metadata": {
            "tags": null
          },
          "name": "stdout",
          "output_type": "stream",
          "text": [
            "Epoch 102 average loss: 0.002794917637285869          avg loss speed: -0.0003905954557775534\n"
          ]
        },
        {
          "metadata": {
            "tags": null
          },
          "name": "stderr",
          "output_type": "stream",
          "text": [
            "Epoch 103/200: 100%|██████████| 211/211 [02:00<00:00,  1.75it/s, loss=0.00244]\n"
          ]
        },
        {
          "metadata": {
            "tags": null
          },
          "name": "stdout",
          "output_type": "stream",
          "text": [
            "Epoch 103 average loss: 0.0026612746797146725          avg loss speed: -0.00016221832177795974\n"
          ]
        },
        {
          "metadata": {
            "tags": null
          },
          "name": "stderr",
          "output_type": "stream",
          "text": [
            "Epoch 104/200: 100%|██████████| 211/211 [01:56<00:00,  1.81it/s, loss=0.0806]\n"
          ]
        },
        {
          "metadata": {
            "tags": null
          },
          "name": "stdout",
          "output_type": "stream",
          "text": [
            "Epoch 104 average loss: 0.006760316988082505          avg loss speed: -0.004192167270193347\n"
          ]
        },
        {
          "output_type": "stream",
          "name": "stderr",
          "text": [
            "Epoch 105/200: 100%|██████████| 211/211 [01:56<00:00,  1.81it/s, loss=0.00525]\n"
          ]
        },
        {
          "output_type": "stream",
          "name": "stdout",
          "text": [
            "Epoch 105 average loss: 0.01593605887643569          avg loss speed: -0.011863889108074677\n"
          ]
        },
        {
          "output_type": "stream",
          "name": "stderr",
          "text": [
            "Epoch 106/200: 100%|██████████| 211/211 [01:57<00:00,  1.79it/s, loss=0.00542]\n"
          ]
        },
        {
          "output_type": "stream",
          "name": "stdout",
          "text": [
            "Epoch 106 average loss: 0.006549857909928001          avg loss speed: 0.001902692271482956 epochs left: 154.23\n"
          ]
        },
        {
          "output_type": "stream",
          "name": "stderr",
          "text": [
            "Epoch 107/200: 100%|██████████| 211/211 [01:57<00:00,  1.80it/s, loss=0.00181]\n"
          ]
        },
        {
          "output_type": "stream",
          "name": "stdout",
          "text": [
            "Epoch 107 average loss: 0.0036346293744185312          avg loss speed: 0.006114115217063535 epochs left: 48.47\n"
          ]
        },
        {
          "output_type": "stream",
          "name": "stderr",
          "text": [
            "Epoch 108/200: 100%|██████████| 211/211 [01:57<00:00,  1.79it/s, loss=0.000929]\n"
          ]
        },
        {
          "output_type": "stream",
          "name": "stdout",
          "text": [
            "Epoch 108 average loss: 0.0027802848214089374          avg loss speed: 0.005926563898851804 epochs left: 50.15\n"
          ]
        },
        {
          "output_type": "stream",
          "name": "stderr",
          "text": [
            "Epoch 109/200: 100%|██████████| 211/211 [01:55<00:00,  1.83it/s, loss=0.00323]\n"
          ]
        },
        {
          "output_type": "stream",
          "name": "stdout",
          "text": [
            "Epoch 109 average loss: 0.0027564882289207765          avg loss speed: 0.0015651024729977131 epochs left: 189.92\n"
          ]
        },
        {
          "output_type": "stream",
          "name": "stderr",
          "text": [
            "Epoch 110/200: 100%|██████████| 211/211 [01:55<00:00,  1.83it/s, loss=0.00249]\n"
          ]
        },
        {
          "output_type": "stream",
          "name": "stdout",
          "text": [
            "Epoch 110 average loss: 0.0022043560255568264          avg loss speed: 0.0008527781160259222 epochs left: 349.21\n"
          ]
        },
        {
          "output_type": "stream",
          "name": "stderr",
          "text": [
            "Epoch 111/200: 100%|██████████| 211/211 [02:00<00:00,  1.75it/s, loss=0.00107]\n"
          ]
        },
        {
          "output_type": "stream",
          "name": "stdout",
          "text": [
            "Epoch 111 average loss: 0.002214827259199173          avg loss speed: 0.0003655490994296743 epochs left: 814.62\n"
          ]
        },
        {
          "output_type": "stream",
          "name": "stderr",
          "text": [
            "Epoch 112/200: 100%|██████████| 211/211 [01:56<00:00,  1.81it/s, loss=0.00331]\n"
          ]
        },
        {
          "output_type": "stream",
          "name": "stdout",
          "text": [
            "Epoch 112 average loss: 0.0022087688767461556          avg loss speed: 0.00018312162781276972 epochs left: 1626.19\n"
          ]
        },
        {
          "output_type": "stream",
          "name": "stderr",
          "text": [
            "Epoch 113/200: 100%|██████████| 211/211 [02:00<00:00,  1.75it/s, loss=0.00203]\n"
          ]
        },
        {
          "output_type": "stream",
          "name": "stdout",
          "text": [
            "Epoch 113 average loss: 0.0019369128724875731          avg loss speed: 0.00027240451467981197 epochs left: 1094.19\n"
          ]
        },
        {
          "output_type": "stream",
          "name": "stderr",
          "text": [
            "Epoch 114/200: 100%|██████████| 211/211 [01:57<00:00,  1.80it/s, loss=0.00101]\n"
          ]
        },
        {
          "output_type": "stream",
          "name": "stdout",
          "text": [
            "Epoch 114 average loss: 0.002444568280212281          avg loss speed: -0.00032439861073464736\n"
          ]
        },
        {
          "output_type": "stream",
          "name": "stderr",
          "text": [
            "Epoch 115/200: 100%|██████████| 211/211 [01:59<00:00,  1.76it/s, loss=0.00188]\n"
          ]
        },
        {
          "output_type": "stream",
          "name": "stdout",
          "text": [
            "Epoch 115 average loss: 0.0021752913116137563          avg loss speed: 2.145869820158056e-05 epochs left: 13878.97\n"
          ]
        },
        {
          "output_type": "stream",
          "name": "stderr",
          "text": [
            "Epoch 116/200: 100%|██████████| 211/211 [01:57<00:00,  1.80it/s, loss=0.000695]\n"
          ]
        },
        {
          "output_type": "stream",
          "name": "stdout",
          "text": [
            "Epoch 116 average loss: 0.00227577044251728          avg loss speed: -9.017962107940982e-05\n"
          ]
        },
        {
          "output_type": "stream",
          "name": "stderr",
          "text": [
            "Epoch 117/200: 100%|██████████| 211/211 [01:58<00:00,  1.78it/s, loss=0.0313]\n"
          ]
        },
        {
          "output_type": "stream",
          "name": "stdout",
          "text": [
            "Epoch 117 average loss: 0.0024151977142528743          avg loss speed: -0.00011665436947176817\n"
          ]
        },
        {
          "output_type": "stream",
          "name": "stderr",
          "text": [
            "Epoch 118/200: 100%|██████████| 211/211 [01:57<00:00,  1.80it/s, loss=0.000762]\n"
          ]
        },
        {
          "output_type": "stream",
          "name": "stdout",
          "text": [
            "Epoch 118 average loss: 0.0021212331909836396          avg loss speed: 0.00016751996514433086 epochs left: 1778.17\n"
          ]
        },
        {
          "output_type": "stream",
          "name": "stderr",
          "text": [
            "Epoch 119/200: 100%|██████████| 211/211 [01:55<00:00,  1.83it/s, loss=0.000711]\n"
          ]
        },
        {
          "output_type": "stream",
          "name": "stdout",
          "text": [
            "Epoch 119 average loss: 0.0027029193213355166          avg loss speed: -0.00043218553875091874\n"
          ]
        },
        {
          "output_type": "stream",
          "name": "stderr",
          "text": [
            "Epoch 120/200: 100%|██████████| 211/211 [01:53<00:00,  1.86it/s, loss=0.000411]\n"
          ]
        },
        {
          "output_type": "stream",
          "name": "stdout",
          "text": [
            "Epoch 120 average loss: 0.0028890318308142566          avg loss speed: -0.00047591508862357976\n"
          ]
        },
        {
          "output_type": "stream",
          "name": "stderr",
          "text": [
            "Epoch 121/200: 100%|██████████| 211/211 [01:58<00:00,  1.79it/s, loss=0.000414]\n"
          ]
        },
        {
          "output_type": "stream",
          "name": "stdout",
          "text": [
            "Epoch 121 average loss: 0.002370531909373011          avg loss speed: 0.00020052953833812632 epochs left: 1484.22\n"
          ]
        },
        {
          "output_type": "stream",
          "name": "stderr",
          "text": [
            "Epoch 122/200: 100%|██████████| 211/211 [01:57<00:00,  1.79it/s, loss=0.00392]\n"
          ]
        },
        {
          "output_type": "stream",
          "name": "stdout",
          "text": [
            "Epoch 122 average loss: 0.002760070554307393          avg loss speed: -0.00010590953379979815\n"
          ]
        },
        {
          "output_type": "stream",
          "name": "stderr",
          "text": [
            "Epoch 123/200: 100%|██████████| 211/211 [01:57<00:00,  1.79it/s, loss=0.000807]\n"
          ]
        },
        {
          "output_type": "stream",
          "name": "stdout",
          "text": [
            "Epoch 123 average loss: 0.0023298238636374085          avg loss speed: 0.0003433875678608119 epochs left: 866.86\n"
          ]
        },
        {
          "output_type": "stream",
          "name": "stderr",
          "text": [
            "Epoch 124/200: 100%|██████████| 211/211 [01:57<00:00,  1.79it/s, loss=0.000565]\n"
          ]
        },
        {
          "output_type": "stream",
          "name": "stdout",
          "text": [
            "Epoch 124 average loss: 0.002751811778683754          avg loss speed: -0.0002650030029111498\n"
          ]
        },
        {
          "output_type": "stream",
          "name": "stderr",
          "text": [
            "Epoch 125/200: 100%|██████████| 211/211 [02:00<00:00,  1.75it/s, loss=0.000404]\n"
          ]
        },
        {
          "output_type": "stream",
          "name": "stdout",
          "text": [
            "Epoch 125 average loss: 0.0025153073757529366          avg loss speed: 9.859468978991532e-05 epochs left: 3017.25\n"
          ]
        },
        {
          "output_type": "stream",
          "name": "stderr",
          "text": [
            "Epoch 126/200: 100%|██████████| 211/211 [01:57<00:00,  1.80it/s, loss=0.00192]\n"
          ]
        },
        {
          "output_type": "stream",
          "name": "stdout",
          "text": [
            "Epoch 126 average loss: 0.0022332167039929903          avg loss speed: 0.00029909763536504303 epochs left: 995.55\n"
          ]
        },
        {
          "output_type": "stream",
          "name": "stderr",
          "text": [
            "Epoch 127/200: 100%|██████████| 211/211 [01:56<00:00,  1.81it/s, loss=0.000332]\n"
          ]
        },
        {
          "output_type": "stream",
          "name": "stdout",
          "text": [
            "Epoch 127 average loss: 0.00228611895496189          avg loss speed: 0.00021399299784800353 epochs left: 1391.23\n"
          ]
        },
        {
          "output_type": "stream",
          "name": "stderr",
          "text": [
            "Epoch 128/200: 100%|██████████| 211/211 [01:59<00:00,  1.77it/s, loss=0.00271]\n"
          ]
        },
        {
          "output_type": "stream",
          "name": "stdout",
          "text": [
            "Epoch 128 average loss: 0.002367561480573321          avg loss speed: -2.2680469004048454e-05\n"
          ]
        },
        {
          "output_type": "stream",
          "name": "stderr",
          "text": [
            "Epoch 129/200: 100%|██████████| 211/211 [01:58<00:00,  1.78it/s, loss=0.000485]\n"
          ]
        },
        {
          "output_type": "stream",
          "name": "stdout",
          "text": [
            "Epoch 129 average loss: 0.0021578710801679842          avg loss speed: 0.00013776129967474956 epochs left: 2162.02\n"
          ]
        },
        {
          "output_type": "stream",
          "name": "stderr",
          "text": [
            "Epoch 130/200: 100%|██████████| 211/211 [01:58<00:00,  1.78it/s, loss=0.0141]\n"
          ]
        },
        {
          "output_type": "stream",
          "name": "stdout",
          "text": [
            "Epoch 130 average loss: 0.01132662995606418          avg loss speed: -0.009056112784163116\n"
          ]
        },
        {
          "output_type": "stream",
          "name": "stderr",
          "text": [
            "Epoch 131/200: 100%|██████████| 211/211 [01:55<00:00,  1.83it/s, loss=0.0166]\n"
          ]
        },
        {
          "output_type": "stream",
          "name": "stdout",
          "text": [
            "Epoch 131 average loss: 0.004525933570285897          avg loss speed: 0.0007580872686492653 epochs left: 389.76\n"
          ]
        },
        {
          "output_type": "stream",
          "name": "stderr",
          "text": [
            "Epoch 132/200: 100%|██████████| 211/211 [01:56<00:00,  1.81it/s, loss=0.00232]\n"
          ]
        },
        {
          "output_type": "stream",
          "name": "stdout",
          "text": [
            "Epoch 132 average loss: 0.002815999534539437          avg loss speed: 0.00318747866763325 epochs left: 93.23\n"
          ]
        },
        {
          "output_type": "stream",
          "name": "stderr",
          "text": [
            "Epoch 133/200: 100%|██████████| 211/211 [01:58<00:00,  1.78it/s, loss=0.000494]\n"
          ]
        },
        {
          "output_type": "stream",
          "name": "stdout",
          "text": [
            "Epoch 133 average loss: 0.0028232928103120707          avg loss speed: 0.0033995615433177672 epochs left: 87.42\n"
          ]
        },
        {
          "output_type": "stream",
          "name": "stderr",
          "text": [
            "Epoch 134/200: 100%|██████████| 211/211 [01:54<00:00,  1.84it/s, loss=0.00539]\n"
          ]
        },
        {
          "output_type": "stream",
          "name": "stdout",
          "text": [
            "Epoch 134 average loss: 0.0024229136921280017          avg loss speed: 0.0009654949462511333 epochs left: 308.21\n"
          ]
        },
        {
          "output_type": "stream",
          "name": "stderr",
          "text": [
            "Epoch 135/200: 100%|██████████| 211/211 [01:59<00:00,  1.77it/s, loss=0.00138]\n"
          ]
        },
        {
          "output_type": "stream",
          "name": "stdout",
          "text": [
            "Epoch 135 average loss: 0.0021419141138683106          avg loss speed: 0.0005454878984581923 epochs left: 546.04\n"
          ]
        },
        {
          "output_type": "stream",
          "name": "stderr",
          "text": [
            "Epoch 136/200: 100%|██████████| 211/211 [01:59<00:00,  1.76it/s, loss=0.000441]\n"
          ]
        },
        {
          "output_type": "stream",
          "name": "stdout",
          "text": [
            "Epoch 136 average loss: 0.002730095054749046          avg loss speed: -0.00026738818264625177\n"
          ]
        },
        {
          "output_type": "stream",
          "name": "stderr",
          "text": [
            "Epoch 137/200: 100%|██████████| 211/211 [01:57<00:00,  1.80it/s, loss=0.000739]\n"
          ]
        },
        {
          "output_type": "stream",
          "name": "stdout",
          "text": [
            "Epoch 137 average loss: 0.002323690732064882          avg loss speed: 0.00010795022151690366 epochs left: 2757.53\n"
          ]
        },
        {
          "output_type": "stream",
          "name": "stderr",
          "text": [
            "Epoch 138/200: 100%|██████████| 211/211 [01:57<00:00,  1.80it/s, loss=0.000745]\n"
          ]
        },
        {
          "output_type": "stream",
          "name": "stdout",
          "text": [
            "Epoch 138 average loss: 0.0025117696557796485          avg loss speed: -0.00011320302221890215\n"
          ]
        },
        {
          "output_type": "stream",
          "name": "stderr",
          "text": [
            "Epoch 139/200: 100%|██████████| 211/211 [01:55<00:00,  1.83it/s, loss=0.00974]\n"
          ]
        },
        {
          "output_type": "stream",
          "name": "stdout",
          "text": [
            "Epoch 139 average loss: 0.0021792654617318785          avg loss speed: 0.0003425863524659802 epochs left: 869.33\n"
          ]
        },
        {
          "output_type": "stream",
          "name": "stderr",
          "text": [
            "Epoch 140/200: 100%|██████████| 211/211 [01:58<00:00,  1.79it/s, loss=0.000389]\n"
          ]
        },
        {
          "output_type": "stream",
          "name": "stdout",
          "text": [
            "Epoch 140 average loss: 0.002441786429199271          avg loss speed: -0.00010354447934046804\n"
          ]
        },
        {
          "output_type": "stream",
          "name": "stderr",
          "text": [
            "Epoch 141/200: 100%|██████████| 211/211 [01:56<00:00,  1.81it/s, loss=0.00289]\n"
          ]
        },
        {
          "output_type": "stream",
          "name": "stdout",
          "text": [
            "Epoch 141 average loss: 0.0024497541753460447          avg loss speed: -7.214699310911224e-05\n"
          ]
        },
        {
          "output_type": "stream",
          "name": "stderr",
          "text": [
            "Epoch 142/200: 100%|██████████| 211/211 [01:58<00:00,  1.78it/s, loss=0.00727]\n"
          ]
        },
        {
          "output_type": "stream",
          "name": "stdout",
          "text": [
            "Epoch 142 average loss: 0.002658307684891111          avg loss speed: -0.00030137232946537973\n"
          ]
        },
        {
          "output_type": "stream",
          "name": "stderr",
          "text": [
            "Epoch 143/200: 100%|██████████| 211/211 [01:57<00:00,  1.80it/s, loss=0.000923]\n"
          ]
        },
        {
          "output_type": "stream",
          "name": "stdout",
          "text": [
            "Epoch 143 average loss: 0.002526640126087716          avg loss speed: -1.0024029608906877e-05\n"
          ]
        },
        {
          "output_type": "stream",
          "name": "stderr",
          "text": [
            "Epoch 144/200: 100%|██████████| 211/211 [01:58<00:00,  1.78it/s, loss=0.000969]\n"
          ]
        },
        {
          "output_type": "stream",
          "name": "stdout",
          "text": [
            "Epoch 144 average loss: 0.0023949139961703587          avg loss speed: 0.00014998666593793192 epochs left: 1984.21\n"
          ]
        },
        {
          "output_type": "stream",
          "name": "stderr",
          "text": [
            "Epoch 145/200: 100%|██████████| 211/211 [01:56<00:00,  1.81it/s, loss=0.000711]\n"
          ]
        },
        {
          "output_type": "stream",
          "name": "stdout",
          "text": [
            "Epoch 145 average loss: 0.002035381359608747          avg loss speed: 0.0004912392427743151 epochs left: 606.56\n"
          ]
        },
        {
          "output_type": "stream",
          "name": "stderr",
          "text": [
            "Epoch 146/200: 100%|██████████| 211/211 [01:54<00:00,  1.85it/s, loss=0.000936]\n"
          ]
        },
        {
          "output_type": "stream",
          "name": "stdout",
          "text": [
            "Epoch 146 average loss: 0.00281507335644617          avg loss speed: -0.0004960948624905628\n"
          ]
        },
        {
          "output_type": "stream",
          "name": "stderr",
          "text": [
            "Epoch 147/200: 100%|██████████| 211/211 [01:59<00:00,  1.76it/s, loss=0.00165]\n"
          ]
        },
        {
          "output_type": "stream",
          "name": "stdout",
          "text": [
            "Epoch 147 average loss: 0.002654386568296992          avg loss speed: -0.00023926366422190011\n"
          ]
        },
        {
          "output_type": "stream",
          "name": "stderr",
          "text": [
            "Epoch 148/200: 100%|██████████| 211/211 [01:56<00:00,  1.81it/s, loss=0.00214]\n"
          ]
        },
        {
          "output_type": "stream",
          "name": "stdout",
          "text": [
            "Epoch 148 average loss: 0.0022702253389423844          avg loss speed: 0.00023138842250825182 epochs left: 1286.71\n"
          ]
        },
        {
          "output_type": "stream",
          "name": "stderr",
          "text": [
            "Epoch 149/200: 100%|██████████| 211/211 [01:59<00:00,  1.77it/s, loss=0.000643]\n"
          ]
        },
        {
          "output_type": "stream",
          "name": "stdout",
          "text": [
            "Epoch 149 average loss: 0.002563616754823713          avg loss speed: 1.6278333071469055e-05 epochs left: 18271.92\n"
          ]
        },
        {
          "output_type": "stream",
          "name": "stderr",
          "text": [
            "Epoch 150/200: 100%|██████████| 211/211 [01:57<00:00,  1.79it/s, loss=0.000799]\n"
          ]
        },
        {
          "output_type": "stream",
          "name": "stdout",
          "text": [
            "Epoch 150 average loss: 0.00220854452793802          avg loss speed: 0.0002875316927496768 epochs left: 1035.68\n"
          ]
        },
        {
          "output_type": "stream",
          "name": "stderr",
          "text": [
            "Epoch 151/200: 100%|██████████| 211/211 [01:56<00:00,  1.81it/s, loss=0.000458]\n"
          ]
        },
        {
          "output_type": "stream",
          "name": "stdout",
          "text": [
            "Epoch 151 average loss: 0.0030321216532658186          avg loss speed: -0.0006846594460311133\n"
          ]
        },
        {
          "output_type": "stream",
          "name": "stderr",
          "text": [
            "Epoch 152/200: 100%|██████████| 211/211 [01:59<00:00,  1.76it/s, loss=0.00137]\n"
          ]
        },
        {
          "output_type": "stream",
          "name": "stdout",
          "text": [
            "Epoch 152 average loss: 0.0025862663921125463          avg loss speed: 1.5161253229970927e-05 epochs left: 19616.70\n"
          ]
        },
        {
          "output_type": "stream",
          "name": "stderr",
          "text": [
            "Epoch 153/200: 100%|██████████| 211/211 [02:00<00:00,  1.75it/s, loss=0.00129]\n"
          ]
        },
        {
          "output_type": "stream",
          "name": "stdout",
          "text": [
            "Epoch 153 average loss: 0.002361600047669272          avg loss speed: 0.00024737747676952275 epochs left: 1203.18\n"
          ]
        },
        {
          "output_type": "stream",
          "name": "stderr",
          "text": [
            "Epoch 154/200: 100%|██████████| 211/211 [01:58<00:00,  1.78it/s, loss=0.000615]\n"
          ]
        },
        {
          "output_type": "stream",
          "name": "stdout",
          "text": [
            "Epoch 154 average loss: 0.002045700583944618          avg loss speed: 0.0006142954470712606 epochs left: 485.03\n"
          ]
        },
        {
          "output_type": "stream",
          "name": "stderr",
          "text": [
            "Epoch 155/200: 100%|██████████| 211/211 [01:56<00:00,  1.81it/s, loss=0.0038]\n"
          ]
        },
        {
          "output_type": "stream",
          "name": "stdout",
          "text": [
            "Epoch 155 average loss: 0.009993542062854658          avg loss speed: -0.007662353054945847\n"
          ]
        },
        {
          "output_type": "stream",
          "name": "stderr",
          "text": [
            "Epoch 156/200: 100%|██████████| 211/211 [01:59<00:00,  1.76it/s, loss=0.00346]\n"
          ]
        },
        {
          "output_type": "stream",
          "name": "stdout",
          "text": [
            "Epoch 156 average loss: 0.005350975929406335          avg loss speed: -0.0005506950312501521\n"
          ]
        },
        {
          "output_type": "stream",
          "name": "stderr",
          "text": [
            "Epoch 157/200: 100%|██████████| 211/211 [01:55<00:00,  1.82it/s, loss=0.00186]\n"
          ]
        },
        {
          "output_type": "stream",
          "name": "stdout",
          "text": [
            "Epoch 157 average loss: 0.0032328381576912997          avg loss speed: 0.0025639013677105703 epochs left: 115.75\n"
          ]
        },
        {
          "output_type": "stream",
          "name": "stderr",
          "text": [
            "Epoch 158/200: 100%|██████████| 211/211 [01:59<00:00,  1.77it/s, loss=0.000797]\n"
          ]
        },
        {
          "output_type": "stream",
          "name": "stdout",
          "text": [
            "Epoch 158 average loss: 0.002374628783309594          avg loss speed: 0.003817823266674504 epochs left: 77.96\n"
          ]
        },
        {
          "output_type": "stream",
          "name": "stderr",
          "text": [
            "Epoch 159/200: 100%|██████████| 211/211 [01:55<00:00,  1.83it/s, loss=0.00327]\n"
          ]
        },
        {
          "output_type": "stream",
          "name": "stdout",
          "text": [
            "Epoch 159 average loss: 0.002507088746449588          avg loss speed: 0.001145725543686155 epochs left: 259.65\n"
          ]
        },
        {
          "output_type": "stream",
          "name": "stderr",
          "text": [
            "Epoch 160/200: 100%|██████████| 211/211 [01:54<00:00,  1.85it/s, loss=0.000879]\n"
          ]
        },
        {
          "output_type": "stream",
          "name": "stdout",
          "text": [
            "Epoch 160 average loss: 0.0022706791959367515          avg loss speed: 0.00043417269988007537 epochs left: 685.74\n"
          ]
        },
        {
          "output_type": "stream",
          "name": "stderr",
          "text": [
            "Epoch 161/200: 100%|██████████| 211/211 [01:58<00:00,  1.78it/s, loss=0.000451]\n"
          ]
        },
        {
          "output_type": "stream",
          "name": "stdout",
          "text": [
            "Epoch 161 average loss: 0.0028479098767468097          avg loss speed: -0.0004637776348481652\n"
          ]
        },
        {
          "output_type": "stream",
          "name": "stderr",
          "text": [
            "Epoch 162/200: 100%|██████████| 211/211 [01:58<00:00,  1.78it/s, loss=0.000396]\n"
          ]
        },
        {
          "output_type": "stream",
          "name": "stdout",
          "text": [
            "Epoch 162 average loss: 0.0022966064747491346          avg loss speed: 0.0002452861316285817 epochs left: 1213.70\n"
          ]
        },
        {
          "output_type": "stream",
          "name": "stderr",
          "text": [
            "Epoch 163/200: 100%|██████████| 211/211 [01:59<00:00,  1.76it/s, loss=0.000438]\n"
          ]
        },
        {
          "output_type": "stream",
          "name": "stdout",
          "text": [
            "Epoch 163 average loss: 0.0028318192937270125          avg loss speed: -0.00036008744458278057\n"
          ]
        },
        {
          "output_type": "stream",
          "name": "stderr",
          "text": [
            "Epoch 164/200: 100%|██████████| 211/211 [01:58<00:00,  1.78it/s, loss=0.00117]\n"
          ]
        },
        {
          "output_type": "stream",
          "name": "stdout",
          "text": [
            "Epoch 164 average loss: 0.0024718899181624654          avg loss speed: 0.0001868886302451864 epochs left: 1592.01\n"
          ]
        },
        {
          "output_type": "stream",
          "name": "stderr",
          "text": [
            "Epoch 165/200: 100%|██████████| 211/211 [01:57<00:00,  1.79it/s, loss=0.00248]\n"
          ]
        },
        {
          "output_type": "stream",
          "name": "stdout",
          "text": [
            "Epoch 165 average loss: 0.002486503411302899          avg loss speed: 4.6935150909971704e-05 epochs left: 6338.82\n"
          ]
        },
        {
          "output_type": "stream",
          "name": "stderr",
          "text": [
            "Epoch 166/200: 100%|██████████| 211/211 [01:57<00:00,  1.79it/s, loss=0.00105]\n"
          ]
        },
        {
          "output_type": "stream",
          "name": "stdout",
          "text": [
            "Epoch 166 average loss: 0.002058534516750998          avg loss speed: 0.0005382030243131276 epochs left: 553.59\n"
          ]
        },
        {
          "output_type": "stream",
          "name": "stderr",
          "text": [
            "Epoch 167/200: 100%|██████████| 211/211 [01:57<00:00,  1.79it/s, loss=0.002]\n"
          ]
        },
        {
          "output_type": "stream",
          "name": "stdout",
          "text": [
            "Epoch 167 average loss: 0.0022453466083819126          avg loss speed: 9.362934035687508e-05 epochs left: 3180.14\n"
          ]
        },
        {
          "output_type": "stream",
          "name": "stderr",
          "text": [
            "Epoch 168/200: 100%|██████████| 211/211 [01:58<00:00,  1.78it/s, loss=0.00147]\n"
          ]
        },
        {
          "output_type": "stream",
          "name": "stdout",
          "text": [
            "Epoch 168 average loss: 0.0025113135208243336          avg loss speed: -0.00024785200867906334\n"
          ]
        },
        {
          "output_type": "stream",
          "name": "stderr",
          "text": [
            "Epoch 169/200: 100%|██████████| 211/211 [01:56<00:00,  1.82it/s, loss=0.0248]\n"
          ]
        },
        {
          "output_type": "stream",
          "name": "stdout",
          "text": [
            "Epoch 169 average loss: 0.002587058894795264          avg loss speed: -0.0003153273461428494\n"
          ]
        },
        {
          "output_type": "stream",
          "name": "stderr",
          "text": [
            "Epoch 170/200: 100%|██████████| 211/211 [02:01<00:00,  1.74it/s, loss=0.000383]\n"
          ]
        },
        {
          "output_type": "stream",
          "name": "stdout",
          "text": [
            "Epoch 170 average loss: 0.0021375465984467277          avg loss speed: 0.00031035974288710867 epochs left: 959.73\n"
          ]
        },
        {
          "output_type": "stream",
          "name": "stderr",
          "text": [
            "Epoch 171/200: 100%|██████████| 211/211 [01:55<00:00,  1.83it/s, loss=0.000602]\n"
          ]
        },
        {
          "output_type": "stream",
          "name": "stdout",
          "text": [
            "Epoch 171 average loss: 0.002067922832586657          avg loss speed: 0.0003440501721021184 epochs left: 865.96\n"
          ]
        },
        {
          "output_type": "stream",
          "name": "stderr",
          "text": [
            "Epoch 172/200: 100%|██████████| 211/211 [01:57<00:00,  1.79it/s, loss=0.000724]\n"
          ]
        },
        {
          "output_type": "stream",
          "name": "stdout",
          "text": [
            "Epoch 172 average loss: 0.002210607377578332          avg loss speed: 5.3568731031217696e-05 epochs left: 5559.02\n"
          ]
        },
        {
          "output_type": "stream",
          "name": "stderr",
          "text": [
            "Epoch 173/200: 100%|██████████| 211/211 [01:55<00:00,  1.83it/s, loss=0.00419]\n"
          ]
        },
        {
          "output_type": "stream",
          "name": "stdout",
          "text": [
            "Epoch 173 average loss: 0.0020787459536084807          avg loss speed: 5.994631592875794e-05 epochs left: 4969.80\n"
          ]
        },
        {
          "output_type": "stream",
          "name": "stderr",
          "text": [
            "Epoch 174/200: 100%|██████████| 211/211 [02:01<00:00,  1.74it/s, loss=0.00238]\n"
          ]
        },
        {
          "output_type": "stream",
          "name": "stdout",
          "text": [
            "Epoch 174 average loss: 0.0019147663528399797          avg loss speed: 0.00020432570175117648 epochs left: 1458.87\n"
          ]
        },
        {
          "output_type": "stream",
          "name": "stderr",
          "text": [
            "Epoch 175/200: 100%|██████████| 211/211 [01:58<00:00,  1.78it/s, loss=0.0185]\n"
          ]
        },
        {
          "output_type": "stream",
          "name": "stdout",
          "text": [
            "Epoch 175 average loss: 0.001972562643937696          avg loss speed: 9.547725073790186e-05 epochs left: 3121.45\n"
          ]
        },
        {
          "output_type": "stream",
          "name": "stderr",
          "text": [
            "Epoch 176/200: 100%|██████████| 211/211 [01:55<00:00,  1.83it/s, loss=0.00105]\n"
          ]
        },
        {
          "output_type": "stream",
          "name": "stdout",
          "text": [
            "Epoch 176 average loss: 0.002280600413666835          avg loss speed: -0.000291908763538116\n"
          ]
        },
        {
          "output_type": "stream",
          "name": "stderr",
          "text": [
            "Epoch 177/200: 100%|██████████| 211/211 [01:55<00:00,  1.82it/s, loss=0.00517]\n"
          ]
        },
        {
          "output_type": "stream",
          "name": "stdout",
          "text": [
            "Epoch 177 average loss: 0.0022805767437008373          avg loss speed: -0.0002246002735526672\n"
          ]
        },
        {
          "output_type": "stream",
          "name": "stderr",
          "text": [
            "Epoch 178/200:  30%|███       | 64/211 [00:33<00:51,  2.85it/s, loss=0.00202]"
          ]
        }
      ],
      "source": [
        "if not is_train_mesh_transformer:\n",
        "  trainer = MeshTransformerTrainer(model = transformer, warmup_steps = 10,grad_accum_every=1,num_train_steps=100, dataset = dataset, learning_rate = 1e-1, batch_size=1)\n",
        "  if is_train_mesh_transformer_iteration:\n",
        "    trainer.load(f'{working_dir}/mesh-transformer_{project_name}.pt')\n",
        "  transformer = trainer.model\n",
        "else:\n",
        "  trainer = MeshTransformerTrainer(model = transformer,warmup_steps = 10,grad_accum_every=4,num_train_steps=100, dataset = dataset,\n",
        "                                 learning_rate = 5e-4, batch_size=2)\n",
        "  loss = trainer.train(200, stop_at_loss = 0.00001)"
      ]
    },
    {
      "cell_type": "markdown",
      "source": [
        "**Load the latest model**"
      ],
      "metadata": {
        "id": "TI5IM_Z3K26g"
      }
    },
    {
      "cell_type": "code",
      "source": [
        "autoencoder_trainer = MeshAutoencoderTrainer(model = autoencoder ,warmup_steps = 10, dataset = dataset, num_train_steps=100, batch_size=8,  grad_accum_every=1, learning_rate = 1e-4)\n",
        "autoencoder_trainer.load(f'{working_dir}/mesh-encoder_{project_name}.pt')\n",
        "autencoder = autoencoder_trainer.model\n",
        "for param in autoencoder.parameters():\n",
        "    param.requires_grad = True\n",
        "import gc\n",
        "torch.cuda.empty_cache()\n",
        "gc.collect()\n",
        "\n",
        "max_length =  max(len(d[\"faces\"]) for d in dataset if \"faces\" in d)\n",
        "max_seq = max_length * 6\n",
        "print(\"Highest face count:\" , max_length)\n",
        "print(\"Max token sequence:\" , max_seq)\n",
        "\n",
        "transformer = MeshTransformer(\n",
        "    autoencoder,\n",
        "    dim = 512,\n",
        "    coarse_pre_gateloop_depth = 6, # Better performance using more gateloop layers\n",
        "    fine_pre_gateloop_depth= 4,\n",
        "    # attn_depth = 24, # GPT-2 medium have 24 layer depth, change if needed\n",
        "    max_seq_len = max_seq,\n",
        "    condition_on_text = True,\n",
        "    gateloop_use_heinsen = False,\n",
        "    text_condition_model_types = \"bge\", ## Change or remove this line if you are using:  https://github.com/MarcusLoppe/classifier-free-guidance-pytorch\n",
        "    text_condition_cond_drop_prob = 0.0\n",
        ").to(\"cuda\")\n",
        "\n",
        "trainer = MeshTransformerTrainer(model = transformer,warmup_steps = 10,grad_accum_every=1,num_train_steps=100, dataset = dataset, learning_rate = 1e-1, batch_size=2)\n",
        "trainer.load(f'{working_dir}/mesh-transformer_{project_name}.pt')\n",
        "transformer = trainer.model\n"
      ],
      "metadata": {
        "id": "Q8by6SXp4GHd"
      },
      "execution_count": null,
      "outputs": []
    },
    {
      "cell_type": "markdown",
      "metadata": {
        "id": "bIn8JVsNdRma"
      },
      "source": [
        "## Generate and view mesh"
      ]
    },
    {
      "cell_type": "code",
      "execution_count": null,
      "metadata": {
        "id": "pRlzLzYxdRma"
      },
      "outputs": [],
      "source": [
        "trainer.save(f'{working_dir}/mesh-transformer_{project_name}.pt')"
      ]
    },
    {
      "cell_type": "code",
      "execution_count": null,
      "metadata": {
        "id": "tX4RM2-ddRma"
      },
      "outputs": [],
      "source": [
        "def combind_mesh(path, mesh):\n",
        "    all_vertices = []\n",
        "    all_faces = []\n",
        "    vertex_offset = 0\n",
        "    translation_distance = 0.5\n",
        "\n",
        "    for r, faces_coordinates in enumerate(mesh):\n",
        "        numpy_data = faces_coordinates[0].cpu().numpy().reshape(-1, 3)\n",
        "\n",
        "        for vertex in numpy_data:\n",
        "            all_vertices.append(f\"v {vertex[0]} {vertex[1]} {vertex[2]}\\n\")\n",
        "\n",
        "        for i in range(1, len(numpy_data), 3):\n",
        "            all_faces.append(f\"f {i + vertex_offset} {i + 1 + vertex_offset} {i + 2 + vertex_offset}\\n\")\n",
        "\n",
        "        vertex_offset += len(numpy_data)\n",
        "\n",
        "    obj_file_content = \"\".join(all_vertices) + \"\".join(all_faces)\n",
        "\n",
        "    with open(path , \"w\") as file:\n",
        "        file.write(obj_file_content)\n",
        "\n",
        "def combind_mesh_with_rows(path, meshes):\n",
        "    all_vertices = []\n",
        "    all_faces = []\n",
        "    vertex_offset = 0\n",
        "    translation_distance = 0.5\n",
        "\n",
        "    for row, mesh in enumerate(meshes):\n",
        "        for r, faces_coordinates in enumerate(mesh):\n",
        "            numpy_data = faces_coordinates[0].cpu().numpy().reshape(-1, 3)\n",
        "            numpy_data[:, 0] += translation_distance * (r / 0.2 - 1)\n",
        "            numpy_data[:, 2] += translation_distance * (row / 0.2 - 1)\n",
        "\n",
        "            for vertex in numpy_data:\n",
        "                all_vertices.append(f\"v {vertex[0]} {vertex[1]} {vertex[2]}\\n\")\n",
        "\n",
        "            for i in range(1, len(numpy_data), 3):\n",
        "                all_faces.append(f\"f {i + vertex_offset} {i + 1 + vertex_offset} {i + 2 + vertex_offset}\\n\")\n",
        "\n",
        "            vertex_offset += len(numpy_data)\n",
        "\n",
        "        obj_file_content = \"\".join(all_vertices) + \"\".join(all_faces)\n",
        "\n",
        "    with open(path , \"w\") as file:\n",
        "        file.write(obj_file_content)\n",
        "\n",
        "\n",
        "def write_mesh_output(path, coords):\n",
        "    numpy_data = faces_coordinates[0].cpu().numpy().reshape(-1, 3)\n",
        "    obj_file_content = \"\"\n",
        "\n",
        "    for vertex in numpy_data:\n",
        "        obj_file_content += f\"v {vertex[0]} {vertex[1]} {vertex[2]}\\n\"\n",
        "\n",
        "    for i in range(1, len(numpy_data), 3):\n",
        "        obj_file_content += f\"f {i} {i + 1} {i + 2}\\n\"\n",
        "\n",
        "    with open(path, \"w\") as file:\n",
        "        file.write(obj_file_content)\n"
      ]
    },
    {
      "cell_type": "markdown",
      "metadata": {
        "id": "Zdd-0bMJdRma"
      },
      "source": [
        "**Using only text**"
      ]
    },
    {
      "cell_type": "code",
      "execution_count": null,
      "metadata": {
        "id": "kzAkhWM7dRmb"
      },
      "outputs": [],
      "source": [
        "\n",
        "from pathlib import Path\n",
        "\n",
        "folder = working_dir / 'renders'\n",
        "obj_file_path = Path(folder)\n",
        "obj_file_path.mkdir(exist_ok = True, parents = True)\n",
        "\n",
        "text_coords = []\n",
        "for text in labels:\n",
        "    print(f\"Generating {text}\")\n",
        "    faces_coordinates = transformer.generate(texts = [text],  temperature = 0.0)\n",
        "    text_coords.append(faces_coordinates)\n",
        "\n",
        "    write_mesh_output(f'{folder}/3d_output_{text}.obj', faces_coordinates)\n",
        "\n",
        "\n",
        "combind_mesh(f'{folder}/3d_models_all.obj', text_coords)"
      ]
    },
    {
      "cell_type": "markdown",
      "metadata": {
        "id": "4oZP_cLvdRmb"
      },
      "source": [
        "**Text + prompt of tokens**"
      ]
    },
    {
      "cell_type": "markdown",
      "metadata": {
        "id": "v8GVxRnrdRmb"
      },
      "source": [
        "Grab fresh copy of dataset"
      ]
    },
    {
      "cell_type": "code",
      "execution_count": null,
      "metadata": {
        "id": "68Ni22DzdRmb"
      },
      "outputs": [],
      "source": [
        "dataset = MeshDataset.load(dataset_path)\n",
        "dataset.generate_codes(autoencoder)"
      ]
    },
    {
      "cell_type": "markdown",
      "metadata": {
        "id": "gBJxZBNUdRmb"
      },
      "source": [
        "**Prompt with 10% of codes/tokens**"
      ]
    },
    {
      "cell_type": "code",
      "execution_count": null,
      "metadata": {
        "id": "y0NTGFLFdRmb"
      },
      "outputs": [],
      "source": [
        "from pathlib import Path\n",
        "token_length_procent = 0.10\n",
        "codes = []\n",
        "texts = []\n",
        "for label in labels:\n",
        "    for item in dataset.data:\n",
        "        if item['texts'] == label:\n",
        "            num_tokens = int(item[\"codes\"].shape[0] * token_length_procent)\n",
        "\n",
        "            texts.append(item['texts'])\n",
        "            codes.append(item[\"codes\"].flatten()[:num_tokens].unsqueeze(0))\n",
        "            break\n",
        "\n",
        "folder = working_dir / f'renders/text+codes'\n",
        "obj_file_path = Path(folder)\n",
        "obj_file_path.mkdir(exist_ok = True, parents = True)\n",
        "\n",
        "coords = []\n",
        "\n",
        "\n",
        "\n",
        "for text, prompt in zip(texts, codes):\n",
        "    print(f\"Generating {text} with {prompt.shape[1]} tokens\")\n",
        "    faces_coordinates = transformer.generate(texts = [text],  prompt = prompt, temperature = 0)\n",
        "    coords.append(faces_coordinates)\n",
        "\n",
        "    obj_file_path = f'{folder}/{text}_{prompt.shape[1]}_tokens.obj'\n",
        "    write_mesh_output(obj_file_path, faces_coordinates)\n",
        "\n",
        "    print(obj_file_path)\n",
        "\n",
        "\n",
        "combind_mesh(f'{folder}/text+prompt_all.obj', coords)\n",
        "\n",
        "if text_coords is not None:\n",
        "    combind_mesh_with_rows(f'{folder}/both_verisons.obj', [text_coords , coords])"
      ]
    },
    {
      "cell_type": "markdown",
      "metadata": {
        "id": "RhBZsZJtdRmb"
      },
      "source": [
        "**Prompt with 0% to 80% of tokens**"
      ]
    },
    {
      "cell_type": "code",
      "execution_count": null,
      "metadata": {
        "id": "PXUYkxcwdRmc"
      },
      "outputs": [],
      "source": [
        "import json\n",
        "import numpy as np\n",
        "import trimesh\n",
        "from pathlib import Path\n",
        "\n",
        "def convert_to_obj(vertices, faces, output_file_path):\n",
        "    scene = trimesh.Scene()\n",
        "    mesh = trimesh.Trimesh(vertices=vertices, faces=faces)\n",
        "    scene.add_geometry(mesh)\n",
        "\n",
        "    with open(output_file_path, \"w\") as f:\n",
        "        f.write(scene.export(file_type=\"obj\"))\n",
        "\n",
        "def encode_to_pua(codes):\n",
        "    flat_codes = [item for sublist in codes for subsublist in sublist for item in subsublist]\n",
        "    return \"\".join(chr(code + 0xF0000) for code in flat_codes)\n",
        "\n",
        "jsonl_lines = []\n",
        "\n",
        "for token_length_procent in np.arange(0, 0.8, 0.1):\n",
        "    codes = []\n",
        "    texts = []\n",
        "    for label in labels:\n",
        "        for item in dataset.data:\n",
        "            if item['texts'] == label:\n",
        "                num_tokens = int(item[\"codes\"].shape[0] * token_length_procent)\n",
        "\n",
        "                texts.append(item['texts'])\n",
        "                codes.append(item[\"codes\"].flatten()[:num_tokens].unsqueeze(0))\n",
        "                break\n",
        "\n",
        "    coords = []\n",
        "    for text, code in zip(texts, codes):\n",
        "        print(f\"Generating {text} with {code.shape[1]} tokens\")\n",
        "        faces_coordinates = transformer.generate(texts=[text], prompt=code, temperature=0)\n",
        "        coords.append(faces_coordinates)\n",
        "\n",
        "        # Process mesh data inlined here\n",
        "        continuous_coors_list = [np_array.tolist() for np_array in faces_coordinates]\n",
        "        flat_list = [item for sublist in continuous_coors_list for item in sublist]\n",
        "        vertices = [vertex for sublist in flat_list for vertex in sublist]\n",
        "        faces = [[i, i + 1, i + 2] for i in range(0, len(vertices), 3)]\n",
        "\n",
        "        obj_filename = f'{text}_{code.shape[1]}_tokens.obj'\n",
        "        obj_file_path = folder / obj_filename\n",
        "        convert_to_obj(vertices, faces, obj_file_path)\n",
        "\n",
        "        encoded_codes = encode_to_pua(code.cpu().tolist())\n",
        "\n",
        "        with open(obj_file_path, \"r\") as file:\n",
        "            obj_contents = file.read()\n",
        "\n",
        "        # Append line to JSONL structure\n",
        "        jsonl_line = [\n",
        "            {\"role\": \"system\", \"content\": \"This assistant can understand 3D models using the meshgpt-pytorch Unicode plane 15 codebook for 16384 triangles and the .obj 3d format.\"},\n",
        "            {\"role\": \"user\", \"content\": encoded_codes},\n",
        "            {\"role\": \"assistant\", \"content\": obj_contents}\n",
        "        ]\n",
        "        jsonl_lines.append(jsonl_line)\n",
        "\n",
        "        print(obj_file_path)\n",
        "\n",
        "    mesh_rows.append(coords)\n",
        "    combind_mesh(f'{folder}/text+prompt_all_{token_length_procent}.obj', coords)\n",
        "\n",
        "combind_mesh_with_rows(f'{folder}/all.obj', mesh_rows)\n",
        "\n",
        "with open(\"chatml.jsonl\", \"w\", encoding=\"utf-8\") as f:\n",
        "    for item in jsonl_lines:\n",
        "        f.write(json.dumps(item, ensure_ascii=False) + \"\\n\")"
      ]
    }
  ],
  "metadata": {
    "kaggle": {
      "accelerator": "gpu",
      "dataSources": [],
      "dockerImageVersionId": 30627,
      "isGpuEnabled": true,
      "isInternetEnabled": true,
      "language": "python",
      "sourceType": "notebook"
    },
    "kernelspec": {
      "display_name": "Python 3",
      "name": "python3"
    },
    "language_info": {
      "codemirror_mode": {
        "name": "ipython",
        "version": 3
      },
      "file_extension": ".py",
      "mimetype": "text/x-python",
      "name": "python",
      "nbconvert_exporter": "python",
      "pygments_lexer": "ipython3",
      "version": "3.11.5"
    },
    "colab": {
      "provenance": [],
      "gpuType": "A100",
      "toc_visible": true,
      "include_colab_link": true
    },
    "accelerator": "GPU"
  },
  "nbformat": 4,
  "nbformat_minor": 0
}